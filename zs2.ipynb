{
 "cells": [
  {
   "cell_type": "code",
   "execution_count": 1,
   "metadata": {},
   "outputs": [],
   "source": [
    "%matplotlib inline\n",
    "import pandas as pd\n",
    "import pandas_profiling\n",
    "import numpy as np\n",
    "import matplotlib.pyplot as plt\n",
    "import seaborn as sns\n",
    "#imputation\n",
    "from sklearn.preprocessing import Imputer, LabelEncoder, OneHotEncoder\n",
    "# train_test_split\n",
    "from sklearn.model_selection import train_test_split, StratifiedKFold, cross_val_score\n",
    "# feature selection\n",
    "from sklearn.feature_selection import RFE\n",
    "# classification models\n",
    "from sklearn.linear_model import LogisticRegression, SGDClassifier\n",
    "from sklearn.tree import DecisionTreeClassifier\n",
    "from sklearn.ensemble import RandomForestClassifier\n",
    "from sklearn.naive_bayes import GaussianNB\n",
    "from sklearn.neighbors import KNeighborsClassifier\n",
    "from sklearn.svm import SVC\n",
    "# evaluation metrics\n",
    "from sklearn.metrics import classification_report, confusion_matrix, roc_auc_score, roc_curve"
   ]
  },
  {
   "cell_type": "code",
   "execution_count": 2,
   "metadata": {},
   "outputs": [],
   "source": [
    "import warnings\n",
    "warnings.filterwarnings(\"ignore\")"
   ]
  },
  {
   "cell_type": "code",
   "execution_count": 3,
   "metadata": {},
   "outputs": [],
   "source": [
    "missing_values = [\"n/a\", \"na\", \"--\"]\n",
    "df = pd.read_csv(\"D:/DS/zs/zs_data.csv\",index_col = 0, na_values = missing_values)"
   ]
  },
  {
   "cell_type": "code",
   "execution_count": 4,
   "metadata": {},
   "outputs": [],
   "source": [
    "#pandas_profiling.ProfileReport(df)"
   ]
  },
  {
   "cell_type": "code",
   "execution_count": 5,
   "metadata": {},
   "outputs": [
    {
     "data": {
      "text/html": [
       "<div>\n",
       "<style scoped>\n",
       "    .dataframe tbody tr th:only-of-type {\n",
       "        vertical-align: middle;\n",
       "    }\n",
       "\n",
       "    .dataframe tbody tr th {\n",
       "        vertical-align: top;\n",
       "    }\n",
       "\n",
       "    .dataframe thead th {\n",
       "        text-align: right;\n",
       "    }\n",
       "</style>\n",
       "<table border=\"1\" class=\"dataframe\">\n",
       "  <thead>\n",
       "    <tr style=\"text-align: right;\">\n",
       "      <th></th>\n",
       "      <th>match_event_id</th>\n",
       "      <th>location_x</th>\n",
       "      <th>location_y</th>\n",
       "      <th>remaining_min</th>\n",
       "      <th>power_of_shot</th>\n",
       "      <th>knockout_match</th>\n",
       "      <th>remaining_sec</th>\n",
       "      <th>distance_of_shot</th>\n",
       "      <th>is_goal</th>\n",
       "      <th>shot_id_number</th>\n",
       "      <th>match_id</th>\n",
       "      <th>team_id</th>\n",
       "      <th>remaining_min.1</th>\n",
       "      <th>power_of_shot.1</th>\n",
       "      <th>knockout_match.1</th>\n",
       "      <th>remaining_sec.1</th>\n",
       "      <th>distance_of_shot.1</th>\n",
       "    </tr>\n",
       "  </thead>\n",
       "  <tbody>\n",
       "    <tr>\n",
       "      <th>count</th>\n",
       "      <td>29134.000000</td>\n",
       "      <td>29236.000000</td>\n",
       "      <td>29157.000000</td>\n",
       "      <td>29135.000000</td>\n",
       "      <td>29211.000000</td>\n",
       "      <td>29180.000000</td>\n",
       "      <td>29103.000000</td>\n",
       "      <td>29130.000000</td>\n",
       "      <td>24429.000000</td>\n",
       "      <td>29134.000000</td>\n",
       "      <td>3.069700e+04</td>\n",
       "      <td>3.069700e+04</td>\n",
       "      <td>29162.000000</td>\n",
       "      <td>29158.000000</td>\n",
       "      <td>29204.000000</td>\n",
       "      <td>29158.000000</td>\n",
       "      <td>29129.000000</td>\n",
       "    </tr>\n",
       "    <tr>\n",
       "      <th>mean</th>\n",
       "      <td>249.576028</td>\n",
       "      <td>7.383876</td>\n",
       "      <td>91.126933</td>\n",
       "      <td>4.883233</td>\n",
       "      <td>2.519359</td>\n",
       "      <td>0.145956</td>\n",
       "      <td>28.329382</td>\n",
       "      <td>33.448884</td>\n",
       "      <td>0.445331</td>\n",
       "      <td>15368.581039</td>\n",
       "      <td>2.476407e+07</td>\n",
       "      <td>1.610613e+09</td>\n",
       "      <td>18.204615</td>\n",
       "      <td>15.994109</td>\n",
       "      <td>16.599402</td>\n",
       "      <td>39.027303</td>\n",
       "      <td>38.801852</td>\n",
       "    </tr>\n",
       "    <tr>\n",
       "      <th>std</th>\n",
       "      <td>150.186019</td>\n",
       "      <td>110.263049</td>\n",
       "      <td>87.676395</td>\n",
       "      <td>3.452533</td>\n",
       "      <td>1.153976</td>\n",
       "      <td>0.353068</td>\n",
       "      <td>17.470663</td>\n",
       "      <td>9.369656</td>\n",
       "      <td>0.497013</td>\n",
       "      <td>8866.520772</td>\n",
       "      <td>7.755175e+06</td>\n",
       "      <td>0.000000e+00</td>\n",
       "      <td>29.416973</td>\n",
       "      <td>29.676815</td>\n",
       "      <td>35.172016</td>\n",
       "      <td>29.835284</td>\n",
       "      <td>18.787711</td>\n",
       "    </tr>\n",
       "    <tr>\n",
       "      <th>min</th>\n",
       "      <td>2.000000</td>\n",
       "      <td>-250.000000</td>\n",
       "      <td>-44.000000</td>\n",
       "      <td>0.000000</td>\n",
       "      <td>1.000000</td>\n",
       "      <td>0.000000</td>\n",
       "      <td>0.000000</td>\n",
       "      <td>20.000000</td>\n",
       "      <td>0.000000</td>\n",
       "      <td>1.000000</td>\n",
       "      <td>2.000001e+07</td>\n",
       "      <td>1.610613e+09</td>\n",
       "      <td>0.000000</td>\n",
       "      <td>1.000000</td>\n",
       "      <td>0.000000</td>\n",
       "      <td>0.000000</td>\n",
       "      <td>9.400000</td>\n",
       "    </tr>\n",
       "    <tr>\n",
       "      <th>25%</th>\n",
       "      <td>111.000000</td>\n",
       "      <td>-68.000000</td>\n",
       "      <td>4.000000</td>\n",
       "      <td>2.000000</td>\n",
       "      <td>1.000000</td>\n",
       "      <td>0.000000</td>\n",
       "      <td>13.000000</td>\n",
       "      <td>25.000000</td>\n",
       "      <td>0.000000</td>\n",
       "      <td>7693.250000</td>\n",
       "      <td>2.050008e+07</td>\n",
       "      <td>1.610613e+09</td>\n",
       "      <td>3.000000</td>\n",
       "      <td>2.000000</td>\n",
       "      <td>0.000000</td>\n",
       "      <td>17.000000</td>\n",
       "      <td>26.000000</td>\n",
       "    </tr>\n",
       "    <tr>\n",
       "      <th>50%</th>\n",
       "      <td>254.000000</td>\n",
       "      <td>0.000000</td>\n",
       "      <td>74.000000</td>\n",
       "      <td>5.000000</td>\n",
       "      <td>3.000000</td>\n",
       "      <td>0.000000</td>\n",
       "      <td>28.000000</td>\n",
       "      <td>35.000000</td>\n",
       "      <td>0.000000</td>\n",
       "      <td>15378.500000</td>\n",
       "      <td>2.090035e+07</td>\n",
       "      <td>1.610613e+09</td>\n",
       "      <td>6.000000</td>\n",
       "      <td>3.000000</td>\n",
       "      <td>0.000000</td>\n",
       "      <td>35.000000</td>\n",
       "      <td>36.000000</td>\n",
       "    </tr>\n",
       "    <tr>\n",
       "      <th>75%</th>\n",
       "      <td>369.000000</td>\n",
       "      <td>95.000000</td>\n",
       "      <td>160.000000</td>\n",
       "      <td>8.000000</td>\n",
       "      <td>3.000000</td>\n",
       "      <td>0.000000</td>\n",
       "      <td>43.000000</td>\n",
       "      <td>41.000000</td>\n",
       "      <td>1.000000</td>\n",
       "      <td>23055.750000</td>\n",
       "      <td>2.960047e+07</td>\n",
       "      <td>1.610613e+09</td>\n",
       "      <td>11.000000</td>\n",
       "      <td>4.000000</td>\n",
       "      <td>1.000000</td>\n",
       "      <td>52.000000</td>\n",
       "      <td>44.000000</td>\n",
       "    </tr>\n",
       "    <tr>\n",
       "      <th>max</th>\n",
       "      <td>659.000000</td>\n",
       "      <td>248.000000</td>\n",
       "      <td>791.000000</td>\n",
       "      <td>11.000000</td>\n",
       "      <td>7.000000</td>\n",
       "      <td>1.000000</td>\n",
       "      <td>59.000000</td>\n",
       "      <td>99.000000</td>\n",
       "      <td>1.000000</td>\n",
       "      <td>30697.000000</td>\n",
       "      <td>4.990009e+07</td>\n",
       "      <td>1.610613e+09</td>\n",
       "      <td>128.761600</td>\n",
       "      <td>118.360000</td>\n",
       "      <td>141.352320</td>\n",
       "      <td>144.785600</td>\n",
       "      <td>115.728000</td>\n",
       "    </tr>\n",
       "  </tbody>\n",
       "</table>\n",
       "</div>"
      ],
      "text/plain": [
       "       match_event_id    location_x    location_y  remaining_min  \\\n",
       "count    29134.000000  29236.000000  29157.000000   29135.000000   \n",
       "mean       249.576028      7.383876     91.126933       4.883233   \n",
       "std        150.186019    110.263049     87.676395       3.452533   \n",
       "min          2.000000   -250.000000    -44.000000       0.000000   \n",
       "25%        111.000000    -68.000000      4.000000       2.000000   \n",
       "50%        254.000000      0.000000     74.000000       5.000000   \n",
       "75%        369.000000     95.000000    160.000000       8.000000   \n",
       "max        659.000000    248.000000    791.000000      11.000000   \n",
       "\n",
       "       power_of_shot  knockout_match  remaining_sec  distance_of_shot  \\\n",
       "count   29211.000000    29180.000000   29103.000000      29130.000000   \n",
       "mean        2.519359        0.145956      28.329382         33.448884   \n",
       "std         1.153976        0.353068      17.470663          9.369656   \n",
       "min         1.000000        0.000000       0.000000         20.000000   \n",
       "25%         1.000000        0.000000      13.000000         25.000000   \n",
       "50%         3.000000        0.000000      28.000000         35.000000   \n",
       "75%         3.000000        0.000000      43.000000         41.000000   \n",
       "max         7.000000        1.000000      59.000000         99.000000   \n",
       "\n",
       "            is_goal  shot_id_number      match_id       team_id  \\\n",
       "count  24429.000000    29134.000000  3.069700e+04  3.069700e+04   \n",
       "mean       0.445331    15368.581039  2.476407e+07  1.610613e+09   \n",
       "std        0.497013     8866.520772  7.755175e+06  0.000000e+00   \n",
       "min        0.000000        1.000000  2.000001e+07  1.610613e+09   \n",
       "25%        0.000000     7693.250000  2.050008e+07  1.610613e+09   \n",
       "50%        0.000000    15378.500000  2.090035e+07  1.610613e+09   \n",
       "75%        1.000000    23055.750000  2.960047e+07  1.610613e+09   \n",
       "max        1.000000    30697.000000  4.990009e+07  1.610613e+09   \n",
       "\n",
       "       remaining_min.1  power_of_shot.1  knockout_match.1  remaining_sec.1  \\\n",
       "count     29162.000000     29158.000000      29204.000000     29158.000000   \n",
       "mean         18.204615        15.994109         16.599402        39.027303   \n",
       "std          29.416973        29.676815         35.172016        29.835284   \n",
       "min           0.000000         1.000000          0.000000         0.000000   \n",
       "25%           3.000000         2.000000          0.000000        17.000000   \n",
       "50%           6.000000         3.000000          0.000000        35.000000   \n",
       "75%          11.000000         4.000000          1.000000        52.000000   \n",
       "max         128.761600       118.360000        141.352320       144.785600   \n",
       "\n",
       "       distance_of_shot.1  \n",
       "count        29129.000000  \n",
       "mean            38.801852  \n",
       "std             18.787711  \n",
       "min              9.400000  \n",
       "25%             26.000000  \n",
       "50%             36.000000  \n",
       "75%             44.000000  \n",
       "max            115.728000  "
      ]
     },
     "execution_count": 5,
     "metadata": {},
     "output_type": "execute_result"
    }
   ],
   "source": [
    "df.describe()"
   ]
  },
  {
   "cell_type": "code",
   "execution_count": 6,
   "metadata": {},
   "outputs": [
    {
     "name": "stdout",
     "output_type": "stream",
     "text": [
      "<class 'pandas.core.frame.DataFrame'>\n",
      "Int64Index: 30697 entries, 0 to 30696\n",
      "Data columns (total 27 columns):\n",
      "match_event_id           29134 non-null float64\n",
      "location_x               29236 non-null float64\n",
      "location_y               29157 non-null float64\n",
      "remaining_min            29135 non-null float64\n",
      "power_of_shot            29211 non-null float64\n",
      "knockout_match           29180 non-null float64\n",
      "game_season              24835 non-null object\n",
      "remaining_sec            29103 non-null float64\n",
      "distance_of_shot         29130 non-null float64\n",
      "is_goal                  24429 non-null float64\n",
      "area_of_shot             29195 non-null object\n",
      "shot_basics              29122 non-null object\n",
      "range_of_shot            29133 non-null object\n",
      "team_name                29162 non-null object\n",
      "date_of_game             29147 non-null object\n",
      "home/away                29200 non-null object\n",
      "shot_id_number           29134 non-null float64\n",
      "lat/lng                  29132 non-null object\n",
      "type_of_shot             15417 non-null object\n",
      "type_of_combined_shot    15280 non-null object\n",
      "match_id                 30697 non-null int64\n",
      "team_id                  30697 non-null int64\n",
      "remaining_min.1          29162 non-null float64\n",
      "power_of_shot.1          29158 non-null float64\n",
      "knockout_match.1         29204 non-null float64\n",
      "remaining_sec.1          29158 non-null float64\n",
      "distance_of_shot.1       29129 non-null float64\n",
      "dtypes: float64(15), int64(2), object(10)\n",
      "memory usage: 6.6+ MB\n"
     ]
    }
   ],
   "source": [
    "df.info()"
   ]
  },
  {
   "cell_type": "code",
   "execution_count": 7,
   "metadata": {},
   "outputs": [],
   "source": [
    "df['shot_id_number'] = df.index + 1"
   ]
  },
  {
   "cell_type": "code",
   "execution_count": 8,
   "metadata": {},
   "outputs": [
    {
     "data": {
      "text/plain": [
       "False"
      ]
     },
     "execution_count": 8,
     "metadata": {},
     "output_type": "execute_result"
    }
   ],
   "source": [
    "df['shot_id_number'].isnull().any()"
   ]
  },
  {
   "cell_type": "code",
   "execution_count": 9,
   "metadata": {},
   "outputs": [
    {
     "data": {
      "text/html": [
       "<div>\n",
       "<style scoped>\n",
       "    .dataframe tbody tr th:only-of-type {\n",
       "        vertical-align: middle;\n",
       "    }\n",
       "\n",
       "    .dataframe tbody tr th {\n",
       "        vertical-align: top;\n",
       "    }\n",
       "\n",
       "    .dataframe thead th {\n",
       "        text-align: right;\n",
       "    }\n",
       "</style>\n",
       "<table border=\"1\" class=\"dataframe\">\n",
       "  <thead>\n",
       "    <tr style=\"text-align: right;\">\n",
       "      <th></th>\n",
       "      <th>match_event_id</th>\n",
       "      <th>location_x</th>\n",
       "      <th>location_y</th>\n",
       "      <th>remaining_min</th>\n",
       "      <th>power_of_shot</th>\n",
       "      <th>knockout_match</th>\n",
       "      <th>game_season</th>\n",
       "      <th>remaining_sec</th>\n",
       "      <th>distance_of_shot</th>\n",
       "      <th>is_goal</th>\n",
       "      <th>...</th>\n",
       "      <th>lat/lng</th>\n",
       "      <th>type_of_shot</th>\n",
       "      <th>type_of_combined_shot</th>\n",
       "      <th>match_id</th>\n",
       "      <th>team_id</th>\n",
       "      <th>remaining_min.1</th>\n",
       "      <th>power_of_shot.1</th>\n",
       "      <th>knockout_match.1</th>\n",
       "      <th>remaining_sec.1</th>\n",
       "      <th>distance_of_shot.1</th>\n",
       "    </tr>\n",
       "  </thead>\n",
       "  <tbody>\n",
       "    <tr>\n",
       "      <th>0</th>\n",
       "      <td>10.0</td>\n",
       "      <td>167.0</td>\n",
       "      <td>72.0</td>\n",
       "      <td>10.0</td>\n",
       "      <td>1.0</td>\n",
       "      <td>0.0</td>\n",
       "      <td>2000-01</td>\n",
       "      <td>27.0</td>\n",
       "      <td>38.0</td>\n",
       "      <td>NaN</td>\n",
       "      <td>...</td>\n",
       "      <td>45.539131, -122.651648</td>\n",
       "      <td>shot - 30</td>\n",
       "      <td>NaN</td>\n",
       "      <td>20000012</td>\n",
       "      <td>1610612747</td>\n",
       "      <td>10.00</td>\n",
       "      <td>1.0</td>\n",
       "      <td>50.608</td>\n",
       "      <td>54.2000</td>\n",
       "      <td>38.0</td>\n",
       "    </tr>\n",
       "    <tr>\n",
       "      <th>1</th>\n",
       "      <td>12.0</td>\n",
       "      <td>-157.0</td>\n",
       "      <td>0.0</td>\n",
       "      <td>10.0</td>\n",
       "      <td>1.0</td>\n",
       "      <td>0.0</td>\n",
       "      <td>2000-01</td>\n",
       "      <td>22.0</td>\n",
       "      <td>35.0</td>\n",
       "      <td>0.0</td>\n",
       "      <td>...</td>\n",
       "      <td>45.539131, -122.651648</td>\n",
       "      <td>shot - 45</td>\n",
       "      <td>NaN</td>\n",
       "      <td>20000012</td>\n",
       "      <td>1610612747</td>\n",
       "      <td>10.00</td>\n",
       "      <td>1.0</td>\n",
       "      <td>28.800</td>\n",
       "      <td>22.0000</td>\n",
       "      <td>35.0</td>\n",
       "    </tr>\n",
       "    <tr>\n",
       "      <th>2</th>\n",
       "      <td>35.0</td>\n",
       "      <td>-101.0</td>\n",
       "      <td>135.0</td>\n",
       "      <td>7.0</td>\n",
       "      <td>1.0</td>\n",
       "      <td>0.0</td>\n",
       "      <td>2000-01</td>\n",
       "      <td>45.0</td>\n",
       "      <td>36.0</td>\n",
       "      <td>1.0</td>\n",
       "      <td>...</td>\n",
       "      <td>45.539131, -122.651648</td>\n",
       "      <td>shot - 25</td>\n",
       "      <td>NaN</td>\n",
       "      <td>20000012</td>\n",
       "      <td>1610612747</td>\n",
       "      <td>92.64</td>\n",
       "      <td>1.0</td>\n",
       "      <td>0.000</td>\n",
       "      <td>63.7216</td>\n",
       "      <td>54.4</td>\n",
       "    </tr>\n",
       "    <tr>\n",
       "      <th>3</th>\n",
       "      <td>43.0</td>\n",
       "      <td>138.0</td>\n",
       "      <td>175.0</td>\n",
       "      <td>6.0</td>\n",
       "      <td>1.0</td>\n",
       "      <td>0.0</td>\n",
       "      <td>2000-01</td>\n",
       "      <td>52.0</td>\n",
       "      <td>42.0</td>\n",
       "      <td>0.0</td>\n",
       "      <td>...</td>\n",
       "      <td>45.539131, -122.651648</td>\n",
       "      <td>NaN</td>\n",
       "      <td>shot - 3</td>\n",
       "      <td>20000012</td>\n",
       "      <td>1610612747</td>\n",
       "      <td>NaN</td>\n",
       "      <td>1.0</td>\n",
       "      <td>122.608</td>\n",
       "      <td>52.0000</td>\n",
       "      <td>42.0</td>\n",
       "    </tr>\n",
       "    <tr>\n",
       "      <th>4</th>\n",
       "      <td>155.0</td>\n",
       "      <td>0.0</td>\n",
       "      <td>0.0</td>\n",
       "      <td>NaN</td>\n",
       "      <td>2.0</td>\n",
       "      <td>0.0</td>\n",
       "      <td>2000-01</td>\n",
       "      <td>19.0</td>\n",
       "      <td>20.0</td>\n",
       "      <td>1.0</td>\n",
       "      <td>...</td>\n",
       "      <td>45.539131, -122.651648</td>\n",
       "      <td>NaN</td>\n",
       "      <td>shot - 1</td>\n",
       "      <td>20000012</td>\n",
       "      <td>1610612747</td>\n",
       "      <td>42.64</td>\n",
       "      <td>2.0</td>\n",
       "      <td>0.000</td>\n",
       "      <td>19.0000</td>\n",
       "      <td>20.0</td>\n",
       "    </tr>\n",
       "    <tr>\n",
       "      <th>5</th>\n",
       "      <td>244.0</td>\n",
       "      <td>-145.0</td>\n",
       "      <td>-11.0</td>\n",
       "      <td>9.0</td>\n",
       "      <td>3.0</td>\n",
       "      <td>0.0</td>\n",
       "      <td>NaN</td>\n",
       "      <td>32.0</td>\n",
       "      <td>34.0</td>\n",
       "      <td>0.0</td>\n",
       "      <td>...</td>\n",
       "      <td>45.539131, -122.651648</td>\n",
       "      <td>shot - 17</td>\n",
       "      <td>NaN</td>\n",
       "      <td>20000012</td>\n",
       "      <td>1610612747</td>\n",
       "      <td>9.00</td>\n",
       "      <td>3.0</td>\n",
       "      <td>0.000</td>\n",
       "      <td>NaN</td>\n",
       "      <td>34.0</td>\n",
       "    </tr>\n",
       "    <tr>\n",
       "      <th>6</th>\n",
       "      <td>251.0</td>\n",
       "      <td>0.0</td>\n",
       "      <td>0.0</td>\n",
       "      <td>8.0</td>\n",
       "      <td>NaN</td>\n",
       "      <td>0.0</td>\n",
       "      <td>2000-01</td>\n",
       "      <td>52.0</td>\n",
       "      <td>20.0</td>\n",
       "      <td>1.0</td>\n",
       "      <td>...</td>\n",
       "      <td>45.539131, -122.651648</td>\n",
       "      <td>NaN</td>\n",
       "      <td>shot - 4</td>\n",
       "      <td>20000012</td>\n",
       "      <td>1610612747</td>\n",
       "      <td>8.00</td>\n",
       "      <td>3.0</td>\n",
       "      <td>0.000</td>\n",
       "      <td>112.2000</td>\n",
       "      <td>89.4</td>\n",
       "    </tr>\n",
       "    <tr>\n",
       "      <th>7</th>\n",
       "      <td>254.0</td>\n",
       "      <td>1.0</td>\n",
       "      <td>28.0</td>\n",
       "      <td>8.0</td>\n",
       "      <td>3.0</td>\n",
       "      <td>0.0</td>\n",
       "      <td>2000-01</td>\n",
       "      <td>5.0</td>\n",
       "      <td>22.0</td>\n",
       "      <td>NaN</td>\n",
       "      <td>...</td>\n",
       "      <td>45.539131, -122.651648</td>\n",
       "      <td>NaN</td>\n",
       "      <td>shot - 3</td>\n",
       "      <td>20000012</td>\n",
       "      <td>1610612747</td>\n",
       "      <td>68.64</td>\n",
       "      <td>3.0</td>\n",
       "      <td>0.000</td>\n",
       "      <td>5.0000</td>\n",
       "      <td>22.0</td>\n",
       "    </tr>\n",
       "    <tr>\n",
       "      <th>8</th>\n",
       "      <td>265.0</td>\n",
       "      <td>-65.0</td>\n",
       "      <td>NaN</td>\n",
       "      <td>6.0</td>\n",
       "      <td>3.0</td>\n",
       "      <td>0.0</td>\n",
       "      <td>2000-01</td>\n",
       "      <td>12.0</td>\n",
       "      <td>32.0</td>\n",
       "      <td>1.0</td>\n",
       "      <td>...</td>\n",
       "      <td>45.539131, -122.651648</td>\n",
       "      <td>shot - 36</td>\n",
       "      <td>NaN</td>\n",
       "      <td>20000012</td>\n",
       "      <td>1610612747</td>\n",
       "      <td>6.00</td>\n",
       "      <td>3.0</td>\n",
       "      <td>0.000</td>\n",
       "      <td>12.0000</td>\n",
       "      <td>32.0</td>\n",
       "    </tr>\n",
       "    <tr>\n",
       "      <th>9</th>\n",
       "      <td>294.0</td>\n",
       "      <td>-33.0</td>\n",
       "      <td>NaN</td>\n",
       "      <td>3.0</td>\n",
       "      <td>3.0</td>\n",
       "      <td>0.0</td>\n",
       "      <td>2000-01</td>\n",
       "      <td>36.0</td>\n",
       "      <td>32.0</td>\n",
       "      <td>0.0</td>\n",
       "      <td>...</td>\n",
       "      <td>45.539131, -122.651648</td>\n",
       "      <td>shot - 44</td>\n",
       "      <td>NaN</td>\n",
       "      <td>20000012</td>\n",
       "      <td>1610612747</td>\n",
       "      <td>3.00</td>\n",
       "      <td>3.0</td>\n",
       "      <td>0.000</td>\n",
       "      <td>52.2000</td>\n",
       "      <td>NaN</td>\n",
       "    </tr>\n",
       "  </tbody>\n",
       "</table>\n",
       "<p>10 rows × 27 columns</p>\n",
       "</div>"
      ],
      "text/plain": [
       "   match_event_id  location_x  location_y  remaining_min  power_of_shot  \\\n",
       "0            10.0       167.0        72.0           10.0            1.0   \n",
       "1            12.0      -157.0         0.0           10.0            1.0   \n",
       "2            35.0      -101.0       135.0            7.0            1.0   \n",
       "3            43.0       138.0       175.0            6.0            1.0   \n",
       "4           155.0         0.0         0.0            NaN            2.0   \n",
       "5           244.0      -145.0       -11.0            9.0            3.0   \n",
       "6           251.0         0.0         0.0            8.0            NaN   \n",
       "7           254.0         1.0        28.0            8.0            3.0   \n",
       "8           265.0       -65.0         NaN            6.0            3.0   \n",
       "9           294.0       -33.0         NaN            3.0            3.0   \n",
       "\n",
       "   knockout_match game_season  remaining_sec  distance_of_shot  is_goal  ...  \\\n",
       "0             0.0     2000-01           27.0              38.0      NaN  ...   \n",
       "1             0.0     2000-01           22.0              35.0      0.0  ...   \n",
       "2             0.0     2000-01           45.0              36.0      1.0  ...   \n",
       "3             0.0     2000-01           52.0              42.0      0.0  ...   \n",
       "4             0.0     2000-01           19.0              20.0      1.0  ...   \n",
       "5             0.0         NaN           32.0              34.0      0.0  ...   \n",
       "6             0.0     2000-01           52.0              20.0      1.0  ...   \n",
       "7             0.0     2000-01            5.0              22.0      NaN  ...   \n",
       "8             0.0     2000-01           12.0              32.0      1.0  ...   \n",
       "9             0.0     2000-01           36.0              32.0      0.0  ...   \n",
       "\n",
       "                  lat/lng type_of_shot type_of_combined_shot  match_id  \\\n",
       "0  45.539131, -122.651648    shot - 30                   NaN  20000012   \n",
       "1  45.539131, -122.651648    shot - 45                   NaN  20000012   \n",
       "2  45.539131, -122.651648    shot - 25                   NaN  20000012   \n",
       "3  45.539131, -122.651648          NaN              shot - 3  20000012   \n",
       "4  45.539131, -122.651648          NaN              shot - 1  20000012   \n",
       "5  45.539131, -122.651648    shot - 17                   NaN  20000012   \n",
       "6  45.539131, -122.651648          NaN              shot - 4  20000012   \n",
       "7  45.539131, -122.651648          NaN              shot - 3  20000012   \n",
       "8  45.539131, -122.651648    shot - 36                   NaN  20000012   \n",
       "9  45.539131, -122.651648    shot - 44                   NaN  20000012   \n",
       "\n",
       "      team_id remaining_min.1  power_of_shot.1 knockout_match.1  \\\n",
       "0  1610612747           10.00              1.0           50.608   \n",
       "1  1610612747           10.00              1.0           28.800   \n",
       "2  1610612747           92.64              1.0            0.000   \n",
       "3  1610612747             NaN              1.0          122.608   \n",
       "4  1610612747           42.64              2.0            0.000   \n",
       "5  1610612747            9.00              3.0            0.000   \n",
       "6  1610612747            8.00              3.0            0.000   \n",
       "7  1610612747           68.64              3.0            0.000   \n",
       "8  1610612747            6.00              3.0            0.000   \n",
       "9  1610612747            3.00              3.0            0.000   \n",
       "\n",
       "  remaining_sec.1 distance_of_shot.1  \n",
       "0         54.2000               38.0  \n",
       "1         22.0000               35.0  \n",
       "2         63.7216               54.4  \n",
       "3         52.0000               42.0  \n",
       "4         19.0000               20.0  \n",
       "5             NaN               34.0  \n",
       "6        112.2000               89.4  \n",
       "7          5.0000               22.0  \n",
       "8         12.0000               32.0  \n",
       "9         52.2000                NaN  \n",
       "\n",
       "[10 rows x 27 columns]"
      ]
     },
     "execution_count": 9,
     "metadata": {},
     "output_type": "execute_result"
    }
   ],
   "source": [
    "df.head(10)"
   ]
  },
  {
   "cell_type": "code",
   "execution_count": 10,
   "metadata": {},
   "outputs": [
    {
     "data": {
      "text/plain": [
       "0.0    24921\n",
       "1.0     4259\n",
       "Name: knockout_match, dtype: int64"
      ]
     },
     "execution_count": 10,
     "metadata": {},
     "output_type": "execute_result"
    }
   ],
   "source": [
    "df['knockout_match'].value_counts()"
   ]
  },
  {
   "cell_type": "code",
   "execution_count": 11,
   "metadata": {},
   "outputs": [
    {
     "data": {
      "text/plain": [
       "2.0      128\n",
       "4.0      102\n",
       "11.0      92\n",
       "278.0     88\n",
       "8.0       87\n",
       "Name: match_event_id, dtype: int64"
      ]
     },
     "execution_count": 11,
     "metadata": {},
     "output_type": "execute_result"
    }
   ],
   "source": [
    "df['match_event_id'].value_counts().head()"
   ]
  },
  {
   "cell_type": "code",
   "execution_count": 12,
   "metadata": {},
   "outputs": [
    {
     "data": {
      "text/plain": [
       "3.0    7885\n",
       "1.0    7659\n",
       "4.0    6910\n",
       "2.0    6399\n",
       "5.0     314\n",
       "6.0      37\n",
       "7.0       7\n",
       "Name: power_of_shot, dtype: int64"
      ]
     },
     "execution_count": 12,
     "metadata": {},
     "output_type": "execute_result"
    }
   ],
   "source": [
    "df['power_of_shot'].value_counts()"
   ]
  },
  {
   "cell_type": "code",
   "execution_count": 13,
   "metadata": {},
   "outputs": [
    {
     "data": {
      "text/plain": [
       "<matplotlib.axes._subplots.AxesSubplot at 0x148b879c470>"
      ]
     },
     "execution_count": 13,
     "metadata": {},
     "output_type": "execute_result"
    },
    {
     "data": {
      "image/png": "[encoded data removed]",
      "text/plain": [
       "<Figure size 432x288 with 2 Axes>"
      ]
     },
     "metadata": {
      "needs_background": "light"
     },
     "output_type": "display_data"
    }
   ],
   "source": [
    "correlation = df.corr()\n",
    "sns.heatmap(correlation, cmap = 'viridis')"
   ]
  },
  {
   "cell_type": "code",
   "execution_count": 14,
   "metadata": {},
   "outputs": [
    {
     "data": {
      "text/html": [
       "<div>\n",
       "<style scoped>\n",
       "    .dataframe tbody tr th:only-of-type {\n",
       "        vertical-align: middle;\n",
       "    }\n",
       "\n",
       "    .dataframe tbody tr th {\n",
       "        vertical-align: top;\n",
       "    }\n",
       "\n",
       "    .dataframe thead th {\n",
       "        text-align: right;\n",
       "    }\n",
       "</style>\n",
       "<table border=\"1\" class=\"dataframe\">\n",
       "  <thead>\n",
       "    <tr style=\"text-align: right;\">\n",
       "      <th></th>\n",
       "      <th>Correlation</th>\n",
       "    </tr>\n",
       "  </thead>\n",
       "  <tbody>\n",
       "    <tr>\n",
       "      <th>is_goal</th>\n",
       "      <td>1.000000</td>\n",
       "    </tr>\n",
       "    <tr>\n",
       "      <th>remaining_sec</th>\n",
       "      <td>0.028964</td>\n",
       "    </tr>\n",
       "    <tr>\n",
       "      <th>remaining_min</th>\n",
       "      <td>0.028342</td>\n",
       "    </tr>\n",
       "    <tr>\n",
       "      <th>remaining_sec.1</th>\n",
       "      <td>0.012209</td>\n",
       "    </tr>\n",
       "    <tr>\n",
       "      <th>remaining_min.1</th>\n",
       "      <td>0.008384</td>\n",
       "    </tr>\n",
       "    <tr>\n",
       "      <th>knockout_match</th>\n",
       "      <td>0.001152</td>\n",
       "    </tr>\n",
       "    <tr>\n",
       "      <th>match_id</th>\n",
       "      <td>-0.000169</td>\n",
       "    </tr>\n",
       "    <tr>\n",
       "      <th>knockout_match.1</th>\n",
       "      <td>-0.001224</td>\n",
       "    </tr>\n",
       "    <tr>\n",
       "      <th>power_of_shot.1</th>\n",
       "      <td>-0.001363</td>\n",
       "    </tr>\n",
       "    <tr>\n",
       "      <th>location_x</th>\n",
       "      <td>-0.004728</td>\n",
       "    </tr>\n",
       "    <tr>\n",
       "      <th>shot_id_number</th>\n",
       "      <td>-0.012693</td>\n",
       "    </tr>\n",
       "    <tr>\n",
       "      <th>power_of_shot</th>\n",
       "      <td>-0.034698</td>\n",
       "    </tr>\n",
       "    <tr>\n",
       "      <th>match_event_id</th>\n",
       "      <td>-0.038705</td>\n",
       "    </tr>\n",
       "    <tr>\n",
       "      <th>distance_of_shot.1</th>\n",
       "      <td>-0.075195</td>\n",
       "    </tr>\n",
       "    <tr>\n",
       "      <th>location_y</th>\n",
       "      <td>-0.145413</td>\n",
       "    </tr>\n",
       "    <tr>\n",
       "      <th>distance_of_shot</th>\n",
       "      <td>-0.198234</td>\n",
       "    </tr>\n",
       "    <tr>\n",
       "      <th>team_id</th>\n",
       "      <td>NaN</td>\n",
       "    </tr>\n",
       "  </tbody>\n",
       "</table>\n",
       "</div>"
      ],
      "text/plain": [
       "                    Correlation\n",
       "is_goal                1.000000\n",
       "remaining_sec          0.028964\n",
       "remaining_min          0.028342\n",
       "remaining_sec.1        0.012209\n",
       "remaining_min.1        0.008384\n",
       "knockout_match         0.001152\n",
       "match_id              -0.000169\n",
       "knockout_match.1      -0.001224\n",
       "power_of_shot.1       -0.001363\n",
       "location_x            -0.004728\n",
       "shot_id_number        -0.012693\n",
       "power_of_shot         -0.034698\n",
       "match_event_id        -0.038705\n",
       "distance_of_shot.1    -0.075195\n",
       "location_y            -0.145413\n",
       "distance_of_shot      -0.198234\n",
       "team_id                     NaN"
      ]
     },
     "execution_count": 14,
     "metadata": {},
     "output_type": "execute_result"
    }
   ],
   "source": [
    "correlation = df.corr()['is_goal']\n",
    "# convert series to dataframe so it can be sorted\n",
    "correlation_df = pd.DataFrame(correlation)\n",
    "# correct column label from Points to correlation\n",
    "correlation_df.columns = [\"Correlation\"]\n",
    "# sort correlation\n",
    "corr_sorted = correlation_df.sort_values(by=['Correlation'], ascending=False)\n",
    "corr_sorted.head(20)"
   ]
  },
  {
   "cell_type": "code",
   "execution_count": 15,
   "metadata": {},
   "outputs": [],
   "source": [
    "df2 = df.loc[df['is_goal'].isnull() == True]"
   ]
  },
  {
   "cell_type": "code",
   "execution_count": 16,
   "metadata": {},
   "outputs": [
    {
     "data": {
      "text/plain": [
       "6268"
      ]
     },
     "execution_count": 16,
     "metadata": {},
     "output_type": "execute_result"
    }
   ],
   "source": [
    "df['is_goal'].isnull().sum()"
   ]
  },
  {
   "cell_type": "code",
   "execution_count": 17,
   "metadata": {},
   "outputs": [],
   "source": [
    "df1 = df.drop(df[df['is_goal'].isnull()].index)"
   ]
  },
  {
   "cell_type": "code",
   "execution_count": 18,
   "metadata": {},
   "outputs": [
    {
     "data": {
      "text/plain": [
       "(24429, 27)"
      ]
     },
     "execution_count": 18,
     "metadata": {},
     "output_type": "execute_result"
    }
   ],
   "source": [
    "df1.shape"
   ]
  },
  {
   "cell_type": "code",
   "execution_count": 19,
   "metadata": {},
   "outputs": [
    {
     "data": {
      "text/plain": [
       "(6268, 27)"
      ]
     },
     "execution_count": 19,
     "metadata": {},
     "output_type": "execute_result"
    }
   ],
   "source": [
    "df2.shape"
   ]
  },
  {
   "cell_type": "code",
   "execution_count": 20,
   "metadata": {},
   "outputs": [
    {
     "data": {
      "text/plain": [
       "(30697, 27)"
      ]
     },
     "execution_count": 20,
     "metadata": {},
     "output_type": "execute_result"
    }
   ],
   "source": [
    "df.shape"
   ]
  },
  {
   "cell_type": "code",
   "execution_count": 21,
   "metadata": {},
   "outputs": [
    {
     "data": {
      "text/plain": [
       "False"
      ]
     },
     "execution_count": 21,
     "metadata": {},
     "output_type": "execute_result"
    }
   ],
   "source": [
    "df1['is_goal'].isnull().any()"
   ]
  },
  {
   "cell_type": "code",
   "execution_count": 22,
   "metadata": {},
   "outputs": [
    {
     "data": {
      "text/plain": [
       "Series([], Name: is_goal, dtype: int64)"
      ]
     },
     "execution_count": 22,
     "metadata": {},
     "output_type": "execute_result"
    }
   ],
   "source": [
    "df2['is_goal'].value_counts()"
   ]
  },
  {
   "cell_type": "markdown",
   "metadata": {},
   "source": [
    "Hence,\n",
    "* df is the main dataset\n",
    "* df1 is the df with non NULL is_goal values\n",
    "* df2 is the df with NULL is_goal values"
   ]
  },
  {
   "cell_type": "code",
   "execution_count": 23,
   "metadata": {},
   "outputs": [],
   "source": [
    "submit = df2[['shot_id_number', 'is_goal']].copy()"
   ]
  },
  {
   "cell_type": "code",
   "execution_count": 24,
   "metadata": {
    "scrolled": true
   },
   "outputs": [
    {
     "data": {
      "text/plain": [
       "(6268, 2)"
      ]
     },
     "execution_count": 24,
     "metadata": {},
     "output_type": "execute_result"
    }
   ],
   "source": [
    "submit.shape"
   ]
  },
  {
   "cell_type": "markdown",
   "metadata": {},
   "source": [
    "Checking for NULL values in other features of df1"
   ]
  },
  {
   "cell_type": "code",
   "execution_count": 25,
   "metadata": {
    "scrolled": true
   },
   "outputs": [
    {
     "name": "stdout",
     "output_type": "stream",
     "text": [
      "match_event_id            True\n",
      "location_x                True\n",
      "location_y                True\n",
      "remaining_min             True\n",
      "power_of_shot             True\n",
      "knockout_match            True\n",
      "game_season               True\n",
      "remaining_sec             True\n",
      "distance_of_shot          True\n",
      "is_goal                  False\n",
      "area_of_shot              True\n",
      "shot_basics               True\n",
      "range_of_shot             True\n",
      "team_name                 True\n",
      "date_of_game              True\n",
      "home/away                 True\n",
      "shot_id_number           False\n",
      "lat/lng                   True\n",
      "type_of_shot              True\n",
      "type_of_combined_shot     True\n",
      "match_id                 False\n",
      "team_id                  False\n",
      "remaining_min.1           True\n",
      "power_of_shot.1           True\n",
      "knockout_match.1          True\n",
      "remaining_sec.1           True\n",
      "distance_of_shot.1        True\n",
      "dtype: bool\n"
     ]
    }
   ],
   "source": [
    "print(df1.isnull().any())"
   ]
  },
  {
   "cell_type": "code",
   "execution_count": 26,
   "metadata": {},
   "outputs": [
    {
     "data": {
      "text/html": [
       "<div>\n",
       "<style scoped>\n",
       "    .dataframe tbody tr th:only-of-type {\n",
       "        vertical-align: middle;\n",
       "    }\n",
       "\n",
       "    .dataframe tbody tr th {\n",
       "        vertical-align: top;\n",
       "    }\n",
       "\n",
       "    .dataframe thead th {\n",
       "        text-align: right;\n",
       "    }\n",
       "</style>\n",
       "<table border=\"1\" class=\"dataframe\">\n",
       "  <thead>\n",
       "    <tr style=\"text-align: right;\">\n",
       "      <th></th>\n",
       "      <th>match_event_id</th>\n",
       "      <th>location_x</th>\n",
       "      <th>location_y</th>\n",
       "      <th>remaining_min</th>\n",
       "      <th>power_of_shot</th>\n",
       "      <th>knockout_match</th>\n",
       "      <th>game_season</th>\n",
       "      <th>remaining_sec</th>\n",
       "      <th>distance_of_shot</th>\n",
       "      <th>is_goal</th>\n",
       "      <th>...</th>\n",
       "      <th>lat/lng</th>\n",
       "      <th>type_of_shot</th>\n",
       "      <th>type_of_combined_shot</th>\n",
       "      <th>match_id</th>\n",
       "      <th>team_id</th>\n",
       "      <th>remaining_min.1</th>\n",
       "      <th>power_of_shot.1</th>\n",
       "      <th>knockout_match.1</th>\n",
       "      <th>remaining_sec.1</th>\n",
       "      <th>distance_of_shot.1</th>\n",
       "    </tr>\n",
       "  </thead>\n",
       "  <tbody>\n",
       "    <tr>\n",
       "      <th>1</th>\n",
       "      <td>12.0</td>\n",
       "      <td>-157.0</td>\n",
       "      <td>0.0</td>\n",
       "      <td>10.0</td>\n",
       "      <td>1.0</td>\n",
       "      <td>0.0</td>\n",
       "      <td>2000-01</td>\n",
       "      <td>22.0</td>\n",
       "      <td>35.0</td>\n",
       "      <td>0.0</td>\n",
       "      <td>...</td>\n",
       "      <td>45.539131, -122.651648</td>\n",
       "      <td>shot - 45</td>\n",
       "      <td>NaN</td>\n",
       "      <td>20000012</td>\n",
       "      <td>1610612747</td>\n",
       "      <td>10.00</td>\n",
       "      <td>1.0</td>\n",
       "      <td>28.800</td>\n",
       "      <td>22.0000</td>\n",
       "      <td>35.0</td>\n",
       "    </tr>\n",
       "    <tr>\n",
       "      <th>2</th>\n",
       "      <td>35.0</td>\n",
       "      <td>-101.0</td>\n",
       "      <td>135.0</td>\n",
       "      <td>7.0</td>\n",
       "      <td>1.0</td>\n",
       "      <td>0.0</td>\n",
       "      <td>2000-01</td>\n",
       "      <td>45.0</td>\n",
       "      <td>36.0</td>\n",
       "      <td>1.0</td>\n",
       "      <td>...</td>\n",
       "      <td>45.539131, -122.651648</td>\n",
       "      <td>shot - 25</td>\n",
       "      <td>NaN</td>\n",
       "      <td>20000012</td>\n",
       "      <td>1610612747</td>\n",
       "      <td>92.64</td>\n",
       "      <td>1.0</td>\n",
       "      <td>0.000</td>\n",
       "      <td>63.7216</td>\n",
       "      <td>54.4</td>\n",
       "    </tr>\n",
       "    <tr>\n",
       "      <th>3</th>\n",
       "      <td>43.0</td>\n",
       "      <td>138.0</td>\n",
       "      <td>175.0</td>\n",
       "      <td>6.0</td>\n",
       "      <td>1.0</td>\n",
       "      <td>0.0</td>\n",
       "      <td>2000-01</td>\n",
       "      <td>52.0</td>\n",
       "      <td>42.0</td>\n",
       "      <td>0.0</td>\n",
       "      <td>...</td>\n",
       "      <td>45.539131, -122.651648</td>\n",
       "      <td>NaN</td>\n",
       "      <td>shot - 3</td>\n",
       "      <td>20000012</td>\n",
       "      <td>1610612747</td>\n",
       "      <td>NaN</td>\n",
       "      <td>1.0</td>\n",
       "      <td>122.608</td>\n",
       "      <td>52.0000</td>\n",
       "      <td>42.0</td>\n",
       "    </tr>\n",
       "    <tr>\n",
       "      <th>4</th>\n",
       "      <td>155.0</td>\n",
       "      <td>0.0</td>\n",
       "      <td>0.0</td>\n",
       "      <td>NaN</td>\n",
       "      <td>2.0</td>\n",
       "      <td>0.0</td>\n",
       "      <td>2000-01</td>\n",
       "      <td>19.0</td>\n",
       "      <td>20.0</td>\n",
       "      <td>1.0</td>\n",
       "      <td>...</td>\n",
       "      <td>45.539131, -122.651648</td>\n",
       "      <td>NaN</td>\n",
       "      <td>shot - 1</td>\n",
       "      <td>20000012</td>\n",
       "      <td>1610612747</td>\n",
       "      <td>42.64</td>\n",
       "      <td>2.0</td>\n",
       "      <td>0.000</td>\n",
       "      <td>19.0000</td>\n",
       "      <td>20.0</td>\n",
       "    </tr>\n",
       "    <tr>\n",
       "      <th>5</th>\n",
       "      <td>244.0</td>\n",
       "      <td>-145.0</td>\n",
       "      <td>-11.0</td>\n",
       "      <td>9.0</td>\n",
       "      <td>3.0</td>\n",
       "      <td>0.0</td>\n",
       "      <td>NaN</td>\n",
       "      <td>32.0</td>\n",
       "      <td>34.0</td>\n",
       "      <td>0.0</td>\n",
       "      <td>...</td>\n",
       "      <td>45.539131, -122.651648</td>\n",
       "      <td>shot - 17</td>\n",
       "      <td>NaN</td>\n",
       "      <td>20000012</td>\n",
       "      <td>1610612747</td>\n",
       "      <td>9.00</td>\n",
       "      <td>3.0</td>\n",
       "      <td>0.000</td>\n",
       "      <td>NaN</td>\n",
       "      <td>34.0</td>\n",
       "    </tr>\n",
       "  </tbody>\n",
       "</table>\n",
       "<p>5 rows × 27 columns</p>\n",
       "</div>"
      ],
      "text/plain": [
       "   match_event_id  location_x  location_y  remaining_min  power_of_shot  \\\n",
       "1            12.0      -157.0         0.0           10.0            1.0   \n",
       "2            35.0      -101.0       135.0            7.0            1.0   \n",
       "3            43.0       138.0       175.0            6.0            1.0   \n",
       "4           155.0         0.0         0.0            NaN            2.0   \n",
       "5           244.0      -145.0       -11.0            9.0            3.0   \n",
       "\n",
       "   knockout_match game_season  remaining_sec  distance_of_shot  is_goal  ...  \\\n",
       "1             0.0     2000-01           22.0              35.0      0.0  ...   \n",
       "2             0.0     2000-01           45.0              36.0      1.0  ...   \n",
       "3             0.0     2000-01           52.0              42.0      0.0  ...   \n",
       "4             0.0     2000-01           19.0              20.0      1.0  ...   \n",
       "5             0.0         NaN           32.0              34.0      0.0  ...   \n",
       "\n",
       "                  lat/lng type_of_shot type_of_combined_shot  match_id  \\\n",
       "1  45.539131, -122.651648    shot - 45                   NaN  20000012   \n",
       "2  45.539131, -122.651648    shot - 25                   NaN  20000012   \n",
       "3  45.539131, -122.651648          NaN              shot - 3  20000012   \n",
       "4  45.539131, -122.651648          NaN              shot - 1  20000012   \n",
       "5  45.539131, -122.651648    shot - 17                   NaN  20000012   \n",
       "\n",
       "      team_id remaining_min.1  power_of_shot.1 knockout_match.1  \\\n",
       "1  1610612747           10.00              1.0           28.800   \n",
       "2  1610612747           92.64              1.0            0.000   \n",
       "3  1610612747             NaN              1.0          122.608   \n",
       "4  1610612747           42.64              2.0            0.000   \n",
       "5  1610612747            9.00              3.0            0.000   \n",
       "\n",
       "  remaining_sec.1 distance_of_shot.1  \n",
       "1         22.0000               35.0  \n",
       "2         63.7216               54.4  \n",
       "3         52.0000               42.0  \n",
       "4         19.0000               20.0  \n",
       "5             NaN               34.0  \n",
       "\n",
       "[5 rows x 27 columns]"
      ]
     },
     "execution_count": 26,
     "metadata": {},
     "output_type": "execute_result"
    }
   ],
   "source": [
    "df1.head()"
   ]
  },
  {
   "cell_type": "code",
   "execution_count": 27,
   "metadata": {},
   "outputs": [
    {
     "data": {
      "text/plain": [
       "match_event_id           23189\n",
       "location_x               23273\n",
       "location_y               23184\n",
       "remaining_min            23185\n",
       "power_of_shot            23229\n",
       "knockout_match           23217\n",
       "game_season              19797\n",
       "remaining_sec            23179\n",
       "distance_of_shot         23172\n",
       "is_goal                  24429\n",
       "area_of_shot             23247\n",
       "shot_basics              23146\n",
       "range_of_shot            23181\n",
       "team_name                23217\n",
       "date_of_game             23192\n",
       "home/away                23215\n",
       "shot_id_number           24429\n",
       "lat/lng                  23182\n",
       "type_of_shot             12293\n",
       "type_of_combined_shot    12136\n",
       "match_id                 24429\n",
       "team_id                  24429\n",
       "remaining_min.1          23220\n",
       "power_of_shot.1          23221\n",
       "knockout_match.1         23215\n",
       "remaining_sec.1          23229\n",
       "distance_of_shot.1       23185\n",
       "dtype: int64"
      ]
     },
     "execution_count": 27,
     "metadata": {},
     "output_type": "execute_result"
    }
   ],
   "source": [
    "df1.count()"
   ]
  },
  {
   "cell_type": "code",
   "execution_count": 28,
   "metadata": {},
   "outputs": [
    {
     "data": {
      "text/plain": [
       "(24429, 27)"
      ]
     },
     "execution_count": 28,
     "metadata": {},
     "output_type": "execute_result"
    }
   ],
   "source": [
    "df1.shape"
   ]
  },
  {
   "cell_type": "markdown",
   "metadata": {},
   "source": [
    "By comparing the above two cells, we find that apart from 'match_id' , 'team_id' , 'shot_id_number' & 'is_goal', all other features have NULL values."
   ]
  },
  {
   "cell_type": "code",
   "execution_count": 29,
   "metadata": {},
   "outputs": [],
   "source": [
    "df1 = df1.drop(['match_event_id', 'location_x', 'location_y', 'game_season', 'team_name', 'date_of_game', 'lat/lng', 'match_id', 'team_id'], axis = 1)"
   ]
  },
  {
   "cell_type": "code",
   "execution_count": 30,
   "metadata": {},
   "outputs": [
    {
     "data": {
      "text/html": [
       "<div>\n",
       "<style scoped>\n",
       "    .dataframe tbody tr th:only-of-type {\n",
       "        vertical-align: middle;\n",
       "    }\n",
       "\n",
       "    .dataframe tbody tr th {\n",
       "        vertical-align: top;\n",
       "    }\n",
       "\n",
       "    .dataframe thead th {\n",
       "        text-align: right;\n",
       "    }\n",
       "</style>\n",
       "<table border=\"1\" class=\"dataframe\">\n",
       "  <thead>\n",
       "    <tr style=\"text-align: right;\">\n",
       "      <th></th>\n",
       "      <th>remaining_min</th>\n",
       "      <th>power_of_shot</th>\n",
       "      <th>knockout_match</th>\n",
       "      <th>remaining_sec</th>\n",
       "      <th>distance_of_shot</th>\n",
       "      <th>is_goal</th>\n",
       "      <th>area_of_shot</th>\n",
       "      <th>shot_basics</th>\n",
       "      <th>range_of_shot</th>\n",
       "      <th>home/away</th>\n",
       "      <th>shot_id_number</th>\n",
       "      <th>type_of_shot</th>\n",
       "      <th>type_of_combined_shot</th>\n",
       "      <th>remaining_min.1</th>\n",
       "      <th>power_of_shot.1</th>\n",
       "      <th>knockout_match.1</th>\n",
       "      <th>remaining_sec.1</th>\n",
       "      <th>distance_of_shot.1</th>\n",
       "    </tr>\n",
       "  </thead>\n",
       "  <tbody>\n",
       "    <tr>\n",
       "      <th>1</th>\n",
       "      <td>10.0</td>\n",
       "      <td>1.0</td>\n",
       "      <td>0.0</td>\n",
       "      <td>22.0</td>\n",
       "      <td>35.0</td>\n",
       "      <td>0.0</td>\n",
       "      <td>Left Side(L)</td>\n",
       "      <td>Mid Range</td>\n",
       "      <td>8-16 ft.</td>\n",
       "      <td>MANU @ POR</td>\n",
       "      <td>2</td>\n",
       "      <td>shot - 45</td>\n",
       "      <td>NaN</td>\n",
       "      <td>10.00</td>\n",
       "      <td>1.0</td>\n",
       "      <td>28.800</td>\n",
       "      <td>22.0000</td>\n",
       "      <td>35.0</td>\n",
       "    </tr>\n",
       "    <tr>\n",
       "      <th>2</th>\n",
       "      <td>7.0</td>\n",
       "      <td>1.0</td>\n",
       "      <td>0.0</td>\n",
       "      <td>45.0</td>\n",
       "      <td>36.0</td>\n",
       "      <td>1.0</td>\n",
       "      <td>Left Side Center(LC)</td>\n",
       "      <td>Mid Range</td>\n",
       "      <td>16-24 ft.</td>\n",
       "      <td>NaN</td>\n",
       "      <td>3</td>\n",
       "      <td>shot - 25</td>\n",
       "      <td>NaN</td>\n",
       "      <td>92.64</td>\n",
       "      <td>1.0</td>\n",
       "      <td>0.000</td>\n",
       "      <td>63.7216</td>\n",
       "      <td>54.4</td>\n",
       "    </tr>\n",
       "    <tr>\n",
       "      <th>3</th>\n",
       "      <td>6.0</td>\n",
       "      <td>1.0</td>\n",
       "      <td>0.0</td>\n",
       "      <td>52.0</td>\n",
       "      <td>42.0</td>\n",
       "      <td>0.0</td>\n",
       "      <td>Right Side Center(RC)</td>\n",
       "      <td>Mid Range</td>\n",
       "      <td>16-24 ft.</td>\n",
       "      <td>MANU @ POR</td>\n",
       "      <td>4</td>\n",
       "      <td>NaN</td>\n",
       "      <td>shot - 3</td>\n",
       "      <td>NaN</td>\n",
       "      <td>1.0</td>\n",
       "      <td>122.608</td>\n",
       "      <td>52.0000</td>\n",
       "      <td>42.0</td>\n",
       "    </tr>\n",
       "    <tr>\n",
       "      <th>4</th>\n",
       "      <td>NaN</td>\n",
       "      <td>2.0</td>\n",
       "      <td>0.0</td>\n",
       "      <td>19.0</td>\n",
       "      <td>20.0</td>\n",
       "      <td>1.0</td>\n",
       "      <td>Center(C)</td>\n",
       "      <td>Goal Area</td>\n",
       "      <td>Less Than 8 ft.</td>\n",
       "      <td>MANU @ POR</td>\n",
       "      <td>5</td>\n",
       "      <td>NaN</td>\n",
       "      <td>shot - 1</td>\n",
       "      <td>42.64</td>\n",
       "      <td>2.0</td>\n",
       "      <td>0.000</td>\n",
       "      <td>19.0000</td>\n",
       "      <td>20.0</td>\n",
       "    </tr>\n",
       "    <tr>\n",
       "      <th>5</th>\n",
       "      <td>9.0</td>\n",
       "      <td>3.0</td>\n",
       "      <td>0.0</td>\n",
       "      <td>32.0</td>\n",
       "      <td>34.0</td>\n",
       "      <td>0.0</td>\n",
       "      <td>Left Side(L)</td>\n",
       "      <td>Mid Range</td>\n",
       "      <td>8-16 ft.</td>\n",
       "      <td>MANU @ POR</td>\n",
       "      <td>6</td>\n",
       "      <td>shot - 17</td>\n",
       "      <td>NaN</td>\n",
       "      <td>9.00</td>\n",
       "      <td>3.0</td>\n",
       "      <td>0.000</td>\n",
       "      <td>NaN</td>\n",
       "      <td>34.0</td>\n",
       "    </tr>\n",
       "  </tbody>\n",
       "</table>\n",
       "</div>"
      ],
      "text/plain": [
       "   remaining_min  power_of_shot  knockout_match  remaining_sec  \\\n",
       "1           10.0            1.0             0.0           22.0   \n",
       "2            7.0            1.0             0.0           45.0   \n",
       "3            6.0            1.0             0.0           52.0   \n",
       "4            NaN            2.0             0.0           19.0   \n",
       "5            9.0            3.0             0.0           32.0   \n",
       "\n",
       "   distance_of_shot  is_goal           area_of_shot shot_basics  \\\n",
       "1              35.0      0.0           Left Side(L)   Mid Range   \n",
       "2              36.0      1.0   Left Side Center(LC)   Mid Range   \n",
       "3              42.0      0.0  Right Side Center(RC)   Mid Range   \n",
       "4              20.0      1.0              Center(C)   Goal Area   \n",
       "5              34.0      0.0           Left Side(L)   Mid Range   \n",
       "\n",
       "     range_of_shot   home/away  shot_id_number type_of_shot  \\\n",
       "1         8-16 ft.  MANU @ POR               2    shot - 45   \n",
       "2        16-24 ft.         NaN               3    shot - 25   \n",
       "3        16-24 ft.  MANU @ POR               4          NaN   \n",
       "4  Less Than 8 ft.  MANU @ POR               5          NaN   \n",
       "5         8-16 ft.  MANU @ POR               6    shot - 17   \n",
       "\n",
       "  type_of_combined_shot  remaining_min.1  power_of_shot.1  knockout_match.1  \\\n",
       "1                   NaN            10.00              1.0            28.800   \n",
       "2                   NaN            92.64              1.0             0.000   \n",
       "3              shot - 3              NaN              1.0           122.608   \n",
       "4              shot - 1            42.64              2.0             0.000   \n",
       "5                   NaN             9.00              3.0             0.000   \n",
       "\n",
       "   remaining_sec.1  distance_of_shot.1  \n",
       "1          22.0000                35.0  \n",
       "2          63.7216                54.4  \n",
       "3          52.0000                42.0  \n",
       "4          19.0000                20.0  \n",
       "5              NaN                34.0  "
      ]
     },
     "execution_count": 30,
     "metadata": {},
     "output_type": "execute_result"
    }
   ],
   "source": [
    "df1.head()"
   ]
  },
  {
   "cell_type": "markdown",
   "metadata": {},
   "source": [
    "Catgorical Variables: \n",
    "* area_of_shot\n",
    "* shot_basics\n",
    "* home/away\n",
    "* type_of_shot\n",
    "* type_of_combined_shot"
   ]
  },
  {
   "cell_type": "markdown",
   "metadata": {},
   "source": [
    "Dropping knockout_match.1, remaining_min.1, power_of_shot.1 since they contain weird values"
   ]
  },
  {
   "cell_type": "code",
   "execution_count": 31,
   "metadata": {},
   "outputs": [],
   "source": [
    "df1 = df1.drop(['knockout_match.1', 'power_of_shot.1', 'remaining_min.1'], axis = 1)"
   ]
  },
  {
   "cell_type": "code",
   "execution_count": 32,
   "metadata": {},
   "outputs": [
    {
     "data": {
      "text/html": [
       "<div>\n",
       "<style scoped>\n",
       "    .dataframe tbody tr th:only-of-type {\n",
       "        vertical-align: middle;\n",
       "    }\n",
       "\n",
       "    .dataframe tbody tr th {\n",
       "        vertical-align: top;\n",
       "    }\n",
       "\n",
       "    .dataframe thead th {\n",
       "        text-align: right;\n",
       "    }\n",
       "</style>\n",
       "<table border=\"1\" class=\"dataframe\">\n",
       "  <thead>\n",
       "    <tr style=\"text-align: right;\">\n",
       "      <th></th>\n",
       "      <th>remaining_min</th>\n",
       "      <th>power_of_shot</th>\n",
       "      <th>knockout_match</th>\n",
       "      <th>remaining_sec</th>\n",
       "      <th>distance_of_shot</th>\n",
       "      <th>is_goal</th>\n",
       "      <th>area_of_shot</th>\n",
       "      <th>shot_basics</th>\n",
       "      <th>range_of_shot</th>\n",
       "      <th>home/away</th>\n",
       "      <th>shot_id_number</th>\n",
       "      <th>type_of_shot</th>\n",
       "      <th>type_of_combined_shot</th>\n",
       "      <th>remaining_sec.1</th>\n",
       "      <th>distance_of_shot.1</th>\n",
       "    </tr>\n",
       "  </thead>\n",
       "  <tbody>\n",
       "    <tr>\n",
       "      <th>1</th>\n",
       "      <td>10.0</td>\n",
       "      <td>1.0</td>\n",
       "      <td>0.0</td>\n",
       "      <td>22.0</td>\n",
       "      <td>35.0</td>\n",
       "      <td>0.0</td>\n",
       "      <td>Left Side(L)</td>\n",
       "      <td>Mid Range</td>\n",
       "      <td>8-16 ft.</td>\n",
       "      <td>MANU @ POR</td>\n",
       "      <td>2</td>\n",
       "      <td>shot - 45</td>\n",
       "      <td>NaN</td>\n",
       "      <td>22.0000</td>\n",
       "      <td>35.0</td>\n",
       "    </tr>\n",
       "    <tr>\n",
       "      <th>2</th>\n",
       "      <td>7.0</td>\n",
       "      <td>1.0</td>\n",
       "      <td>0.0</td>\n",
       "      <td>45.0</td>\n",
       "      <td>36.0</td>\n",
       "      <td>1.0</td>\n",
       "      <td>Left Side Center(LC)</td>\n",
       "      <td>Mid Range</td>\n",
       "      <td>16-24 ft.</td>\n",
       "      <td>NaN</td>\n",
       "      <td>3</td>\n",
       "      <td>shot - 25</td>\n",
       "      <td>NaN</td>\n",
       "      <td>63.7216</td>\n",
       "      <td>54.4</td>\n",
       "    </tr>\n",
       "    <tr>\n",
       "      <th>3</th>\n",
       "      <td>6.0</td>\n",
       "      <td>1.0</td>\n",
       "      <td>0.0</td>\n",
       "      <td>52.0</td>\n",
       "      <td>42.0</td>\n",
       "      <td>0.0</td>\n",
       "      <td>Right Side Center(RC)</td>\n",
       "      <td>Mid Range</td>\n",
       "      <td>16-24 ft.</td>\n",
       "      <td>MANU @ POR</td>\n",
       "      <td>4</td>\n",
       "      <td>NaN</td>\n",
       "      <td>shot - 3</td>\n",
       "      <td>52.0000</td>\n",
       "      <td>42.0</td>\n",
       "    </tr>\n",
       "    <tr>\n",
       "      <th>4</th>\n",
       "      <td>NaN</td>\n",
       "      <td>2.0</td>\n",
       "      <td>0.0</td>\n",
       "      <td>19.0</td>\n",
       "      <td>20.0</td>\n",
       "      <td>1.0</td>\n",
       "      <td>Center(C)</td>\n",
       "      <td>Goal Area</td>\n",
       "      <td>Less Than 8 ft.</td>\n",
       "      <td>MANU @ POR</td>\n",
       "      <td>5</td>\n",
       "      <td>NaN</td>\n",
       "      <td>shot - 1</td>\n",
       "      <td>19.0000</td>\n",
       "      <td>20.0</td>\n",
       "    </tr>\n",
       "    <tr>\n",
       "      <th>5</th>\n",
       "      <td>9.0</td>\n",
       "      <td>3.0</td>\n",
       "      <td>0.0</td>\n",
       "      <td>32.0</td>\n",
       "      <td>34.0</td>\n",
       "      <td>0.0</td>\n",
       "      <td>Left Side(L)</td>\n",
       "      <td>Mid Range</td>\n",
       "      <td>8-16 ft.</td>\n",
       "      <td>MANU @ POR</td>\n",
       "      <td>6</td>\n",
       "      <td>shot - 17</td>\n",
       "      <td>NaN</td>\n",
       "      <td>NaN</td>\n",
       "      <td>34.0</td>\n",
       "    </tr>\n",
       "  </tbody>\n",
       "</table>\n",
       "</div>"
      ],
      "text/plain": [
       "   remaining_min  power_of_shot  knockout_match  remaining_sec  \\\n",
       "1           10.0            1.0             0.0           22.0   \n",
       "2            7.0            1.0             0.0           45.0   \n",
       "3            6.0            1.0             0.0           52.0   \n",
       "4            NaN            2.0             0.0           19.0   \n",
       "5            9.0            3.0             0.0           32.0   \n",
       "\n",
       "   distance_of_shot  is_goal           area_of_shot shot_basics  \\\n",
       "1              35.0      0.0           Left Side(L)   Mid Range   \n",
       "2              36.0      1.0   Left Side Center(LC)   Mid Range   \n",
       "3              42.0      0.0  Right Side Center(RC)   Mid Range   \n",
       "4              20.0      1.0              Center(C)   Goal Area   \n",
       "5              34.0      0.0           Left Side(L)   Mid Range   \n",
       "\n",
       "     range_of_shot   home/away  shot_id_number type_of_shot  \\\n",
       "1         8-16 ft.  MANU @ POR               2    shot - 45   \n",
       "2        16-24 ft.         NaN               3    shot - 25   \n",
       "3        16-24 ft.  MANU @ POR               4          NaN   \n",
       "4  Less Than 8 ft.  MANU @ POR               5          NaN   \n",
       "5         8-16 ft.  MANU @ POR               6    shot - 17   \n",
       "\n",
       "  type_of_combined_shot  remaining_sec.1  distance_of_shot.1  \n",
       "1                   NaN          22.0000                35.0  \n",
       "2                   NaN          63.7216                54.4  \n",
       "3              shot - 3          52.0000                42.0  \n",
       "4              shot - 1          19.0000                20.0  \n",
       "5                   NaN              NaN                34.0  "
      ]
     },
     "execution_count": 32,
     "metadata": {},
     "output_type": "execute_result"
    }
   ],
   "source": [
    "df1.head()"
   ]
  },
  {
   "cell_type": "code",
   "execution_count": 33,
   "metadata": {},
   "outputs": [
    {
     "data": {
      "text/plain": [
       "0.0     2921\n",
       "4.0     2176\n",
       "2.0     2169\n",
       "3.0     2127\n",
       "1.0     2080\n",
       "5.0     1968\n",
       "6.0     1776\n",
       "9.0     1696\n",
       "7.0     1684\n",
       "10.0    1612\n",
       "8.0     1580\n",
       "11.0    1396\n",
       "Name: remaining_min, dtype: int64"
      ]
     },
     "execution_count": 33,
     "metadata": {},
     "output_type": "execute_result"
    }
   ],
   "source": [
    "df1['remaining_min'].value_counts()"
   ]
  },
  {
   "cell_type": "code",
   "execution_count": 34,
   "metadata": {},
   "outputs": [
    {
     "data": {
      "text/plain": [
       "3.0    6306\n",
       "1.0    6064\n",
       "4.0    5482\n",
       "2.0    5088\n",
       "5.0     255\n",
       "6.0      27\n",
       "7.0       7\n",
       "Name: power_of_shot, dtype: int64"
      ]
     },
     "execution_count": 34,
     "metadata": {},
     "output_type": "execute_result"
    }
   ],
   "source": [
    "df1['power_of_shot'].value_counts()"
   ]
  },
  {
   "cell_type": "code",
   "execution_count": 35,
   "metadata": {},
   "outputs": [
    {
     "data": {
      "text/plain": [
       "0.0    19834\n",
       "1.0     3383\n",
       "Name: knockout_match, dtype: int64"
      ]
     },
     "execution_count": 35,
     "metadata": {},
     "output_type": "execute_result"
    }
   ],
   "source": [
    "df1['knockout_match'].value_counts()"
   ]
  },
  {
   "cell_type": "code",
   "execution_count": 36,
   "metadata": {},
   "outputs": [
    {
     "data": {
      "text/plain": [
       "0.0     759\n",
       "1.0     484\n",
       "2.0     458\n",
       "28.0    438\n",
       "4.0     434\n",
       "Name: remaining_sec, dtype: int64"
      ]
     },
     "execution_count": 36,
     "metadata": {},
     "output_type": "execute_result"
    }
   ],
   "source": [
    "df1['remaining_sec'].value_counts().head()"
   ]
  },
  {
   "cell_type": "code",
   "execution_count": 37,
   "metadata": {},
   "outputs": [
    {
     "data": {
      "text/plain": [
       "0.0     617\n",
       "1.0     407\n",
       "28.0    369\n",
       "4.0     355\n",
       "2.0     353\n",
       "Name: remaining_sec.1, dtype: int64"
      ]
     },
     "execution_count": 37,
     "metadata": {},
     "output_type": "execute_result"
    }
   ],
   "source": [
    "df1['remaining_sec.1'].value_counts().head()"
   ]
  },
  {
   "cell_type": "code",
   "execution_count": 38,
   "metadata": {
    "scrolled": true
   },
   "outputs": [
    {
     "data": {
      "text/plain": [
       "20.0    4144\n",
       "45.0    1463\n",
       "44.0    1149\n",
       "37.0    1118\n",
       "36.0    1058\n",
       "Name: distance_of_shot, dtype: int64"
      ]
     },
     "execution_count": 38,
     "metadata": {},
     "output_type": "execute_result"
    }
   ],
   "source": [
    "df1['distance_of_shot'].value_counts().head()"
   ]
  },
  {
   "cell_type": "code",
   "execution_count": 39,
   "metadata": {
    "scrolled": true
   },
   "outputs": [
    {
     "data": {
      "text/plain": [
       "20.0    3345\n",
       "45.0    1185\n",
       "44.0     927\n",
       "37.0     893\n",
       "38.0     858\n",
       "Name: distance_of_shot.1, dtype: int64"
      ]
     },
     "execution_count": 39,
     "metadata": {},
     "output_type": "execute_result"
    }
   ],
   "source": [
    "df1['distance_of_shot.1'].value_counts().head()"
   ]
  },
  {
   "cell_type": "code",
   "execution_count": 40,
   "metadata": {},
   "outputs": [
    {
     "data": {
      "text/plain": [
       "Center(C)                10177\n",
       "Right Side Center(RC)     3616\n",
       "Right Side(R)             3504\n",
       "Left Side Center(LC)      3031\n",
       "Left Side(L)              2848\n",
       "Mid Ground(MG)              71\n",
       "Name: area_of_shot, dtype: int64"
      ]
     },
     "execution_count": 40,
     "metadata": {},
     "output_type": "execute_result"
    }
   ],
   "source": [
    "df1['area_of_shot'].value_counts()"
   ]
  },
  {
   "cell_type": "code",
   "execution_count": 41,
   "metadata": {},
   "outputs": [
    {
     "data": {
      "text/plain": [
       "Mid Range          9488\n",
       "Goal Area          5323\n",
       "Penalty Spot       4245\n",
       "Goal Line          3515\n",
       "Right Corner        302\n",
       "Left Corner         216\n",
       "Mid Ground Line      57\n",
       "Name: shot_basics, dtype: int64"
      ]
     },
     "execution_count": 41,
     "metadata": {},
     "output_type": "execute_result"
    }
   ],
   "source": [
    "df1['shot_basics'].value_counts()"
   ]
  },
  {
   "cell_type": "code",
   "execution_count": 42,
   "metadata": {},
   "outputs": [
    {
     "data": {
      "text/plain": [
       "Less Than 8 ft.    7064\n",
       "16-24 ft.          6220\n",
       "8-16 ft.           5076\n",
       "24+ ft.            4751\n",
       "Back Court Shot      70\n",
       "Name: range_of_shot, dtype: int64"
      ]
     },
     "execution_count": 42,
     "metadata": {},
     "output_type": "execute_result"
    }
   ],
   "source": [
    "df1['range_of_shot'].value_counts()"
   ]
  },
  {
   "cell_type": "code",
   "execution_count": 43,
   "metadata": {
    "scrolled": true
   },
   "outputs": [
    {
     "data": {
      "text/plain": [
       "MANU @ SAS      767\n",
       "MANU @ PHX      701\n",
       "MANU vs. SAS    693\n",
       "MANU @ SAC      686\n",
       "MANU vs. PHX    650\n",
       "Name: home/away, dtype: int64"
      ]
     },
     "execution_count": 43,
     "metadata": {},
     "output_type": "execute_result"
    }
   ],
   "source": [
    "df1['home/away'].value_counts().head()"
   ]
  },
  {
   "cell_type": "code",
   "execution_count": 44,
   "metadata": {},
   "outputs": [
    {
     "data": {
      "text/plain": [
       "shot - 39    1145\n",
       "shot - 36    1042\n",
       "shot - 4      875\n",
       "shot - 15     554\n",
       "shot - 38     521\n",
       "Name: type_of_shot, dtype: int64"
      ]
     },
     "execution_count": 44,
     "metadata": {},
     "output_type": "execute_result"
    }
   ],
   "source": [
    "df1['type_of_shot'].value_counts().head()"
   ]
  },
  {
   "cell_type": "code",
   "execution_count": 45,
   "metadata": {},
   "outputs": [
    {
     "data": {
      "text/plain": [
       "shot - 3    9338\n",
       "shot - 4    2129\n",
       "shot - 1     470\n",
       "shot - 5      72\n",
       "shot - 2      66\n",
       "shot - 0      61\n",
       "Name: type_of_combined_shot, dtype: int64"
      ]
     },
     "execution_count": 45,
     "metadata": {},
     "output_type": "execute_result"
    }
   ],
   "source": [
    "df1['type_of_combined_shot'].value_counts()"
   ]
  },
  {
   "cell_type": "markdown",
   "metadata": {},
   "source": [
    "Numeric Variables:\n",
    "* remaining_min\n",
    "* power_of_shot\n",
    "* knockout_match\n",
    "* remaining_sec\n",
    "* remaining_sec.1\n",
    "* distance_of_shot\n",
    "* distance_of_shot.1\n",
    "\n",
    "Categorical Variables:\n",
    "* area_of_shot\n",
    "* shot_basics\n",
    "* range_of_shot\n",
    "* home/away\n",
    "* type_of_shot\n",
    "* type_of_combined_shot"
   ]
  },
  {
   "cell_type": "code",
   "execution_count": 46,
   "metadata": {
    "scrolled": true
   },
   "outputs": [
    {
     "data": {
      "text/html": [
       "<div>\n",
       "<style scoped>\n",
       "    .dataframe tbody tr th:only-of-type {\n",
       "        vertical-align: middle;\n",
       "    }\n",
       "\n",
       "    .dataframe tbody tr th {\n",
       "        vertical-align: top;\n",
       "    }\n",
       "\n",
       "    .dataframe thead th {\n",
       "        text-align: right;\n",
       "    }\n",
       "</style>\n",
       "<table border=\"1\" class=\"dataframe\">\n",
       "  <thead>\n",
       "    <tr style=\"text-align: right;\">\n",
       "      <th></th>\n",
       "      <th>remaining_min</th>\n",
       "      <th>power_of_shot</th>\n",
       "      <th>knockout_match</th>\n",
       "      <th>remaining_sec</th>\n",
       "      <th>distance_of_shot</th>\n",
       "      <th>is_goal</th>\n",
       "      <th>area_of_shot</th>\n",
       "      <th>shot_basics</th>\n",
       "      <th>range_of_shot</th>\n",
       "      <th>home/away</th>\n",
       "      <th>shot_id_number</th>\n",
       "      <th>type_of_shot</th>\n",
       "      <th>type_of_combined_shot</th>\n",
       "      <th>remaining_sec.1</th>\n",
       "      <th>distance_of_shot.1</th>\n",
       "    </tr>\n",
       "  </thead>\n",
       "  <tbody>\n",
       "    <tr>\n",
       "      <th>1</th>\n",
       "      <td>10.0</td>\n",
       "      <td>1.0</td>\n",
       "      <td>0.0</td>\n",
       "      <td>22.0</td>\n",
       "      <td>35.0</td>\n",
       "      <td>0.0</td>\n",
       "      <td>Left Side(L)</td>\n",
       "      <td>Mid Range</td>\n",
       "      <td>8-16 ft.</td>\n",
       "      <td>MANU @ POR</td>\n",
       "      <td>2</td>\n",
       "      <td>shot - 45</td>\n",
       "      <td>NaN</td>\n",
       "      <td>22.0000</td>\n",
       "      <td>35.0</td>\n",
       "    </tr>\n",
       "    <tr>\n",
       "      <th>2</th>\n",
       "      <td>7.0</td>\n",
       "      <td>1.0</td>\n",
       "      <td>0.0</td>\n",
       "      <td>45.0</td>\n",
       "      <td>36.0</td>\n",
       "      <td>1.0</td>\n",
       "      <td>Left Side Center(LC)</td>\n",
       "      <td>Mid Range</td>\n",
       "      <td>16-24 ft.</td>\n",
       "      <td>NaN</td>\n",
       "      <td>3</td>\n",
       "      <td>shot - 25</td>\n",
       "      <td>NaN</td>\n",
       "      <td>63.7216</td>\n",
       "      <td>54.4</td>\n",
       "    </tr>\n",
       "    <tr>\n",
       "      <th>3</th>\n",
       "      <td>6.0</td>\n",
       "      <td>1.0</td>\n",
       "      <td>0.0</td>\n",
       "      <td>52.0</td>\n",
       "      <td>42.0</td>\n",
       "      <td>0.0</td>\n",
       "      <td>Right Side Center(RC)</td>\n",
       "      <td>Mid Range</td>\n",
       "      <td>16-24 ft.</td>\n",
       "      <td>MANU @ POR</td>\n",
       "      <td>4</td>\n",
       "      <td>NaN</td>\n",
       "      <td>shot - 3</td>\n",
       "      <td>52.0000</td>\n",
       "      <td>42.0</td>\n",
       "    </tr>\n",
       "    <tr>\n",
       "      <th>4</th>\n",
       "      <td>NaN</td>\n",
       "      <td>2.0</td>\n",
       "      <td>0.0</td>\n",
       "      <td>19.0</td>\n",
       "      <td>20.0</td>\n",
       "      <td>1.0</td>\n",
       "      <td>Center(C)</td>\n",
       "      <td>Goal Area</td>\n",
       "      <td>Less Than 8 ft.</td>\n",
       "      <td>MANU @ POR</td>\n",
       "      <td>5</td>\n",
       "      <td>NaN</td>\n",
       "      <td>shot - 1</td>\n",
       "      <td>19.0000</td>\n",
       "      <td>20.0</td>\n",
       "    </tr>\n",
       "    <tr>\n",
       "      <th>5</th>\n",
       "      <td>9.0</td>\n",
       "      <td>3.0</td>\n",
       "      <td>0.0</td>\n",
       "      <td>32.0</td>\n",
       "      <td>34.0</td>\n",
       "      <td>0.0</td>\n",
       "      <td>Left Side(L)</td>\n",
       "      <td>Mid Range</td>\n",
       "      <td>8-16 ft.</td>\n",
       "      <td>MANU @ POR</td>\n",
       "      <td>6</td>\n",
       "      <td>shot - 17</td>\n",
       "      <td>NaN</td>\n",
       "      <td>NaN</td>\n",
       "      <td>34.0</td>\n",
       "    </tr>\n",
       "  </tbody>\n",
       "</table>\n",
       "</div>"
      ],
      "text/plain": [
       "   remaining_min  power_of_shot  knockout_match  remaining_sec  \\\n",
       "1           10.0            1.0             0.0           22.0   \n",
       "2            7.0            1.0             0.0           45.0   \n",
       "3            6.0            1.0             0.0           52.0   \n",
       "4            NaN            2.0             0.0           19.0   \n",
       "5            9.0            3.0             0.0           32.0   \n",
       "\n",
       "   distance_of_shot  is_goal           area_of_shot shot_basics  \\\n",
       "1              35.0      0.0           Left Side(L)   Mid Range   \n",
       "2              36.0      1.0   Left Side Center(LC)   Mid Range   \n",
       "3              42.0      0.0  Right Side Center(RC)   Mid Range   \n",
       "4              20.0      1.0              Center(C)   Goal Area   \n",
       "5              34.0      0.0           Left Side(L)   Mid Range   \n",
       "\n",
       "     range_of_shot   home/away  shot_id_number type_of_shot  \\\n",
       "1         8-16 ft.  MANU @ POR               2    shot - 45   \n",
       "2        16-24 ft.         NaN               3    shot - 25   \n",
       "3        16-24 ft.  MANU @ POR               4          NaN   \n",
       "4  Less Than 8 ft.  MANU @ POR               5          NaN   \n",
       "5         8-16 ft.  MANU @ POR               6    shot - 17   \n",
       "\n",
       "  type_of_combined_shot  remaining_sec.1  distance_of_shot.1  \n",
       "1                   NaN          22.0000                35.0  \n",
       "2                   NaN          63.7216                54.4  \n",
       "3              shot - 3          52.0000                42.0  \n",
       "4              shot - 1          19.0000                20.0  \n",
       "5                   NaN              NaN                34.0  "
      ]
     },
     "execution_count": 46,
     "metadata": {},
     "output_type": "execute_result"
    }
   ],
   "source": [
    "df1.head()"
   ]
  },
  {
   "cell_type": "code",
   "execution_count": 47,
   "metadata": {},
   "outputs": [],
   "source": [
    "df1['home/away'] = df1['home/away'].fillna(method='ffill')"
   ]
  },
  {
   "cell_type": "code",
   "execution_count": 48,
   "metadata": {},
   "outputs": [
    {
     "data": {
      "text/plain": [
       "False"
      ]
     },
     "execution_count": 48,
     "metadata": {},
     "output_type": "execute_result"
    }
   ],
   "source": [
    "df1['home/away'].isnull().any()"
   ]
  },
  {
   "cell_type": "code",
   "execution_count": 49,
   "metadata": {},
   "outputs": [],
   "source": [
    "ha = np.asarray(df1[['home/away']])"
   ]
  },
  {
   "cell_type": "code",
   "execution_count": 50,
   "metadata": {},
   "outputs": [
    {
     "data": {
      "text/plain": [
       "24429"
      ]
     },
     "execution_count": 50,
     "metadata": {},
     "output_type": "execute_result"
    }
   ],
   "source": [
    "ha.size"
   ]
  },
  {
   "cell_type": "code",
   "execution_count": 131,
   "metadata": {},
   "outputs": [],
   "source": [
    "df1['home/away'] = df1['home/away'].str.contains(\"@\", regex = True)"
   ]
  },
  {
   "cell_type": "code",
   "execution_count": 132,
   "metadata": {
    "scrolled": true
   },
   "outputs": [
    {
     "data": {
      "text/plain": [
       "24429"
      ]
     },
     "execution_count": 132,
     "metadata": {},
     "output_type": "execute_result"
    }
   ],
   "source": [
    "df1['home/away'].size"
   ]
  },
  {
   "cell_type": "code",
   "execution_count": 134,
   "metadata": {},
   "outputs": [
    {
     "data": {
      "text/plain": [
       "1      True\n",
       "2      True\n",
       "3      True\n",
       "4      True\n",
       "5      True\n",
       "6      True\n",
       "8      True\n",
       "9      True\n",
       "10     True\n",
       "11    False\n",
       "12    False\n",
       "13    False\n",
       "14    False\n",
       "15    False\n",
       "17    False\n",
       "18    False\n",
       "20    False\n",
       "22    False\n",
       "23    False\n",
       "24    False\n",
       "Name: home/away, dtype: bool"
      ]
     },
     "execution_count": 134,
     "metadata": {},
     "output_type": "execute_result"
    }
   ],
   "source": [
    "df1['home/away'].head(20)"
   ]
  },
  {
   "cell_type": "markdown",
   "metadata": {},
   "source": [
    "### IMPUTATION"
   ]
  },
  {
   "cell_type": "code",
   "execution_count": 53,
   "metadata": {},
   "outputs": [
    {
     "data": {
      "text/plain": [
       "remaining_min             1244\n",
       "power_of_shot             1200\n",
       "knockout_match            1212\n",
       "remaining_sec             1250\n",
       "distance_of_shot          1257\n",
       "is_goal                      0\n",
       "area_of_shot              1182\n",
       "shot_basics               1283\n",
       "range_of_shot             1248\n",
       "home/away                    0\n",
       "shot_id_number               0\n",
       "type_of_shot             12136\n",
       "type_of_combined_shot    12293\n",
       "remaining_sec.1           1200\n",
       "distance_of_shot.1        1244\n",
       "dtype: int64"
      ]
     },
     "execution_count": 53,
     "metadata": {},
     "output_type": "execute_result"
    }
   ],
   "source": [
    "len(df1) - df1.count()"
   ]
  },
  {
   "cell_type": "code",
   "execution_count": 54,
   "metadata": {},
   "outputs": [
    {
     "data": {
      "text/plain": [
       "(24429, 15)"
      ]
     },
     "execution_count": 54,
     "metadata": {},
     "output_type": "execute_result"
    }
   ],
   "source": [
    "df1.shape"
   ]
  },
  {
   "cell_type": "markdown",
   "metadata": {},
   "source": [
    "Imputation for remaining_min"
   ]
  },
  {
   "cell_type": "code",
   "execution_count": 55,
   "metadata": {},
   "outputs": [],
   "source": [
    "df1['remaining_min'] = df1['remaining_min'].fillna(method='ffill')"
   ]
  },
  {
   "cell_type": "code",
   "execution_count": 56,
   "metadata": {},
   "outputs": [
    {
     "data": {
      "text/plain": [
       "False"
      ]
     },
     "execution_count": 56,
     "metadata": {},
     "output_type": "execute_result"
    }
   ],
   "source": [
    "df1['remaining_min'].isnull().any()"
   ]
  },
  {
   "cell_type": "code",
   "execution_count": 57,
   "metadata": {},
   "outputs": [
    {
     "data": {
      "text/plain": [
       "24429"
      ]
     },
     "execution_count": 57,
     "metadata": {},
     "output_type": "execute_result"
    }
   ],
   "source": [
    "df1['remaining_min'].count()"
   ]
  },
  {
   "cell_type": "markdown",
   "metadata": {},
   "source": [
    "Imputation for power_of_shot"
   ]
  },
  {
   "cell_type": "code",
   "execution_count": 58,
   "metadata": {},
   "outputs": [
    {
     "data": {
      "text/plain": [
       "3.0    6306\n",
       "1.0    6064\n",
       "4.0    5482\n",
       "2.0    5088\n",
       "5.0     255\n",
       "6.0      27\n",
       "7.0       7\n",
       "Name: power_of_shot, dtype: int64"
      ]
     },
     "execution_count": 58,
     "metadata": {},
     "output_type": "execute_result"
    }
   ],
   "source": [
    "df1['power_of_shot'].value_counts()"
   ]
  },
  {
   "cell_type": "code",
   "execution_count": 59,
   "metadata": {},
   "outputs": [],
   "source": [
    "median = df1['power_of_shot'].median()\n",
    "df1['power_of_shot'] = df1['power_of_shot'].fillna(median)"
   ]
  },
  {
   "cell_type": "code",
   "execution_count": 60,
   "metadata": {},
   "outputs": [
    {
     "data": {
      "text/plain": [
       "False"
      ]
     },
     "execution_count": 60,
     "metadata": {},
     "output_type": "execute_result"
    }
   ],
   "source": [
    "df1['power_of_shot'].isnull().any()"
   ]
  },
  {
   "cell_type": "markdown",
   "metadata": {},
   "source": [
    "Imputation of knockout_match"
   ]
  },
  {
   "cell_type": "code",
   "execution_count": 61,
   "metadata": {},
   "outputs": [],
   "source": [
    "df1['knockout_match'] = df1['knockout_match'].fillna(method='ffill')"
   ]
  },
  {
   "cell_type": "code",
   "execution_count": 62,
   "metadata": {},
   "outputs": [
    {
     "data": {
      "text/plain": [
       "False"
      ]
     },
     "execution_count": 62,
     "metadata": {},
     "output_type": "execute_result"
    }
   ],
   "source": [
    "df1['knockout_match'].isnull().any()"
   ]
  },
  {
   "cell_type": "markdown",
   "metadata": {},
   "source": [
    "Imputation of remaining_sec & remaining_sec.1"
   ]
  },
  {
   "cell_type": "code",
   "execution_count": 63,
   "metadata": {},
   "outputs": [],
   "source": [
    "m1 = df1['remaining_sec'].median()\n",
    "df1['remaining_sec'] = df1['remaining_sec'].fillna(m1)\n",
    "m2 = df1['remaining_sec.1'].median()\n",
    "df1['remaining_sec.1'] = df1['remaining_sec.1'].fillna(m2)"
   ]
  },
  {
   "cell_type": "code",
   "execution_count": 64,
   "metadata": {},
   "outputs": [
    {
     "data": {
      "text/plain": [
       "False"
      ]
     },
     "execution_count": 64,
     "metadata": {},
     "output_type": "execute_result"
    }
   ],
   "source": [
    "df1['remaining_sec'].isnull().any()"
   ]
  },
  {
   "cell_type": "code",
   "execution_count": 65,
   "metadata": {},
   "outputs": [
    {
     "data": {
      "text/plain": [
       "False"
      ]
     },
     "execution_count": 65,
     "metadata": {},
     "output_type": "execute_result"
    }
   ],
   "source": [
    "df1['remaining_sec.1'].isnull().any()"
   ]
  },
  {
   "cell_type": "markdown",
   "metadata": {},
   "source": [
    "Imputation of distance_of_shot & distance_of_shot.1"
   ]
  },
  {
   "cell_type": "code",
   "execution_count": 66,
   "metadata": {},
   "outputs": [],
   "source": [
    "m1 = df1['distance_of_shot'].median()\n",
    "df1['distance_of_shot'] = df1['distance_of_shot'].fillna(m1)\n",
    "m2 = df1['distance_of_shot.1'].median()\n",
    "df1['distance_of_shot.1'] = df1['distance_of_shot'].fillna(m2)"
   ]
  },
  {
   "cell_type": "code",
   "execution_count": 67,
   "metadata": {},
   "outputs": [
    {
     "data": {
      "text/plain": [
       "False"
      ]
     },
     "execution_count": 67,
     "metadata": {},
     "output_type": "execute_result"
    }
   ],
   "source": [
    "df1['distance_of_shot'].isnull().any()"
   ]
  },
  {
   "cell_type": "code",
   "execution_count": 68,
   "metadata": {},
   "outputs": [
    {
     "data": {
      "text/plain": [
       "False"
      ]
     },
     "execution_count": 68,
     "metadata": {},
     "output_type": "execute_result"
    }
   ],
   "source": [
    "df1['distance_of_shot.1'].isnull().any()"
   ]
  },
  {
   "cell_type": "markdown",
   "metadata": {},
   "source": [
    "Imputing Categorical Variables"
   ]
  },
  {
   "cell_type": "code",
   "execution_count": 135,
   "metadata": {},
   "outputs": [],
   "source": [
    "df1['area_of_shot'] = df1['area_of_shot'].fillna(df1['area_of_shot'].value_counts().index[0])\n",
    "df1['shot_basics'] = df1['shot_basics'].fillna(df1['shot_basics'].value_counts().index[0])\n",
    "df1['range_of_shot'] = df1['range_of_shot'].fillna(df1['range_of_shot'].value_counts().index[0])\n",
    "df1['home/away'] = df1['home/away'].fillna(df1['home/away'].value_counts().index[0])\n",
    "df1['type_of_shot'] = df1['type_of_shot'].fillna(df1['type_of_shot'].value_counts().index[0])\n",
    "df1['type_of_combined_shot'] = df1['type_of_combined_shot'].fillna(df1['type_of_combined_shot'].value_counts().index[0])"
   ]
  },
  {
   "cell_type": "code",
   "execution_count": 136,
   "metadata": {},
   "outputs": [
    {
     "data": {
      "text/plain": [
       "remaining_min            False\n",
       "power_of_shot            False\n",
       "knockout_match           False\n",
       "remaining_sec            False\n",
       "distance_of_shot         False\n",
       "is_goal                  False\n",
       "area_of_shot             False\n",
       "shot_basics              False\n",
       "range_of_shot            False\n",
       "home/away                False\n",
       "shot_id_number           False\n",
       "type_of_shot             False\n",
       "type_of_combined_shot    False\n",
       "remaining_sec.1          False\n",
       "distance_of_shot.1       False\n",
       "dtype: bool"
      ]
     },
     "execution_count": 136,
     "metadata": {},
     "output_type": "execute_result"
    }
   ],
   "source": [
    "df1.isnull().any()"
   ]
  },
  {
   "cell_type": "markdown",
   "metadata": {},
   "source": [
    "Encoding Categorical Data"
   ]
  },
  {
   "cell_type": "markdown",
   "metadata": {},
   "source": [
    "Categorical Variables:\n",
    "* area_of_shot\n",
    "* shot_basics\n",
    "* range_of_shot\n",
    "* home/away\n",
    "* type_of_shot\n",
    "* type_of_combined_shot"
   ]
  },
  {
   "cell_type": "code",
   "execution_count": 137,
   "metadata": {},
   "outputs": [],
   "source": [
    "le = LabelEncoder()"
   ]
  },
  {
   "cell_type": "code",
   "execution_count": 141,
   "metadata": {},
   "outputs": [],
   "source": [
    "df1['area_of_shot'] = le.fit_transform(df1['area_of_shot'])\n",
    "df1['shot_basics'] = le.fit_transform(df1['shot_basics'])\n",
    "df1['range_of_shot'] = le.fit_transform(df1['range_of_shot'])\n",
    "df1['home/away'] = le.fit_transform(df1['home/away'])\n",
    "df1['type_of_shot'] = le.fit_transform(df1['type_of_shot'])\n",
    "df1['type_of_combined_shot'] = le.fit_transform(df1['type_of_combined_shot'])"
   ]
  },
  {
   "cell_type": "code",
   "execution_count": 145,
   "metadata": {},
   "outputs": [],
   "source": [
    "X = df1.copy()"
   ]
  },
  {
   "cell_type": "code",
   "execution_count": 146,
   "metadata": {},
   "outputs": [
    {
     "data": {
      "text/html": [
       "<div>\n",
       "<style scoped>\n",
       "    .dataframe tbody tr th:only-of-type {\n",
       "        vertical-align: middle;\n",
       "    }\n",
       "\n",
       "    .dataframe tbody tr th {\n",
       "        vertical-align: top;\n",
       "    }\n",
       "\n",
       "    .dataframe thead th {\n",
       "        text-align: right;\n",
       "    }\n",
       "</style>\n",
       "<table border=\"1\" class=\"dataframe\">\n",
       "  <thead>\n",
       "    <tr style=\"text-align: right;\">\n",
       "      <th></th>\n",
       "      <th>remaining_min</th>\n",
       "      <th>power_of_shot</th>\n",
       "      <th>knockout_match</th>\n",
       "      <th>remaining_sec</th>\n",
       "      <th>distance_of_shot</th>\n",
       "      <th>is_goal</th>\n",
       "      <th>area_of_shot</th>\n",
       "      <th>shot_basics</th>\n",
       "      <th>range_of_shot</th>\n",
       "      <th>home/away</th>\n",
       "      <th>shot_id_number</th>\n",
       "      <th>type_of_shot</th>\n",
       "      <th>type_of_combined_shot</th>\n",
       "      <th>remaining_sec.1</th>\n",
       "      <th>distance_of_shot.1</th>\n",
       "    </tr>\n",
       "  </thead>\n",
       "  <tbody>\n",
       "    <tr>\n",
       "      <th>1</th>\n",
       "      <td>10.0</td>\n",
       "      <td>1.0</td>\n",
       "      <td>0.0</td>\n",
       "      <td>22.0</td>\n",
       "      <td>35.0</td>\n",
       "      <td>0.0</td>\n",
       "      <td>2</td>\n",
       "      <td>4</td>\n",
       "      <td>2</td>\n",
       "      <td>1</td>\n",
       "      <td>2</td>\n",
       "      <td>40</td>\n",
       "      <td>3</td>\n",
       "      <td>22.0000</td>\n",
       "      <td>35.0</td>\n",
       "    </tr>\n",
       "    <tr>\n",
       "      <th>2</th>\n",
       "      <td>7.0</td>\n",
       "      <td>1.0</td>\n",
       "      <td>0.0</td>\n",
       "      <td>45.0</td>\n",
       "      <td>36.0</td>\n",
       "      <td>1.0</td>\n",
       "      <td>1</td>\n",
       "      <td>4</td>\n",
       "      <td>0</td>\n",
       "      <td>1</td>\n",
       "      <td>3</td>\n",
       "      <td>18</td>\n",
       "      <td>3</td>\n",
       "      <td>63.7216</td>\n",
       "      <td>36.0</td>\n",
       "    </tr>\n",
       "    <tr>\n",
       "      <th>3</th>\n",
       "      <td>6.0</td>\n",
       "      <td>1.0</td>\n",
       "      <td>0.0</td>\n",
       "      <td>52.0</td>\n",
       "      <td>42.0</td>\n",
       "      <td>0.0</td>\n",
       "      <td>4</td>\n",
       "      <td>4</td>\n",
       "      <td>0</td>\n",
       "      <td>1</td>\n",
       "      <td>4</td>\n",
       "      <td>33</td>\n",
       "      <td>3</td>\n",
       "      <td>52.0000</td>\n",
       "      <td>42.0</td>\n",
       "    </tr>\n",
       "    <tr>\n",
       "      <th>4</th>\n",
       "      <td>6.0</td>\n",
       "      <td>2.0</td>\n",
       "      <td>0.0</td>\n",
       "      <td>19.0</td>\n",
       "      <td>20.0</td>\n",
       "      <td>1.0</td>\n",
       "      <td>0</td>\n",
       "      <td>0</td>\n",
       "      <td>4</td>\n",
       "      <td>1</td>\n",
       "      <td>5</td>\n",
       "      <td>33</td>\n",
       "      <td>1</td>\n",
       "      <td>19.0000</td>\n",
       "      <td>20.0</td>\n",
       "    </tr>\n",
       "    <tr>\n",
       "      <th>5</th>\n",
       "      <td>9.0</td>\n",
       "      <td>3.0</td>\n",
       "      <td>0.0</td>\n",
       "      <td>32.0</td>\n",
       "      <td>34.0</td>\n",
       "      <td>0.0</td>\n",
       "      <td>2</td>\n",
       "      <td>4</td>\n",
       "      <td>2</td>\n",
       "      <td>1</td>\n",
       "      <td>6</td>\n",
       "      <td>9</td>\n",
       "      <td>3</td>\n",
       "      <td>35.0000</td>\n",
       "      <td>34.0</td>\n",
       "    </tr>\n",
       "  </tbody>\n",
       "</table>\n",
       "</div>"
      ],
      "text/plain": [
       "   remaining_min  power_of_shot  knockout_match  remaining_sec  \\\n",
       "1           10.0            1.0             0.0           22.0   \n",
       "2            7.0            1.0             0.0           45.0   \n",
       "3            6.0            1.0             0.0           52.0   \n",
       "4            6.0            2.0             0.0           19.0   \n",
       "5            9.0            3.0             0.0           32.0   \n",
       "\n",
       "   distance_of_shot  is_goal  area_of_shot  shot_basics  range_of_shot  \\\n",
       "1              35.0      0.0             2            4              2   \n",
       "2              36.0      1.0             1            4              0   \n",
       "3              42.0      0.0             4            4              0   \n",
       "4              20.0      1.0             0            0              4   \n",
       "5              34.0      0.0             2            4              2   \n",
       "\n",
       "   home/away  shot_id_number  type_of_shot  type_of_combined_shot  \\\n",
       "1          1               2            40                      3   \n",
       "2          1               3            18                      3   \n",
       "3          1               4            33                      3   \n",
       "4          1               5            33                      1   \n",
       "5          1               6             9                      3   \n",
       "\n",
       "   remaining_sec.1  distance_of_shot.1  \n",
       "1          22.0000                35.0  \n",
       "2          63.7216                36.0  \n",
       "3          52.0000                42.0  \n",
       "4          19.0000                20.0  \n",
       "5          35.0000                34.0  "
      ]
     },
     "execution_count": 146,
     "metadata": {},
     "output_type": "execute_result"
    }
   ],
   "source": [
    "X.head()"
   ]
  },
  {
   "cell_type": "code",
   "execution_count": 147,
   "metadata": {},
   "outputs": [],
   "source": [
    "y = X['is_goal'].copy()"
   ]
  },
  {
   "cell_type": "code",
   "execution_count": 148,
   "metadata": {},
   "outputs": [],
   "source": [
    "X = X.drop(['is_goal', 'shot_id_number'], axis = 1)"
   ]
  },
  {
   "cell_type": "code",
   "execution_count": 149,
   "metadata": {},
   "outputs": [],
   "source": [
    "X = X.drop(['remaining_sec.1', 'distance_of_shot.1'], axis = 1)"
   ]
  },
  {
   "cell_type": "code",
   "execution_count": 150,
   "metadata": {
    "scrolled": true
   },
   "outputs": [
    {
     "data": {
      "text/html": [
       "<div>\n",
       "<style scoped>\n",
       "    .dataframe tbody tr th:only-of-type {\n",
       "        vertical-align: middle;\n",
       "    }\n",
       "\n",
       "    .dataframe tbody tr th {\n",
       "        vertical-align: top;\n",
       "    }\n",
       "\n",
       "    .dataframe thead th {\n",
       "        text-align: right;\n",
       "    }\n",
       "</style>\n",
       "<table border=\"1\" class=\"dataframe\">\n",
       "  <thead>\n",
       "    <tr style=\"text-align: right;\">\n",
       "      <th></th>\n",
       "      <th>remaining_min</th>\n",
       "      <th>power_of_shot</th>\n",
       "      <th>knockout_match</th>\n",
       "      <th>remaining_sec</th>\n",
       "      <th>distance_of_shot</th>\n",
       "      <th>area_of_shot</th>\n",
       "      <th>shot_basics</th>\n",
       "      <th>range_of_shot</th>\n",
       "      <th>home/away</th>\n",
       "      <th>type_of_shot</th>\n",
       "      <th>type_of_combined_shot</th>\n",
       "    </tr>\n",
       "  </thead>\n",
       "  <tbody>\n",
       "    <tr>\n",
       "      <th>1</th>\n",
       "      <td>10.0</td>\n",
       "      <td>1.0</td>\n",
       "      <td>0.0</td>\n",
       "      <td>22.0</td>\n",
       "      <td>35.0</td>\n",
       "      <td>2</td>\n",
       "      <td>4</td>\n",
       "      <td>2</td>\n",
       "      <td>1</td>\n",
       "      <td>40</td>\n",
       "      <td>3</td>\n",
       "    </tr>\n",
       "    <tr>\n",
       "      <th>2</th>\n",
       "      <td>7.0</td>\n",
       "      <td>1.0</td>\n",
       "      <td>0.0</td>\n",
       "      <td>45.0</td>\n",
       "      <td>36.0</td>\n",
       "      <td>1</td>\n",
       "      <td>4</td>\n",
       "      <td>0</td>\n",
       "      <td>1</td>\n",
       "      <td>18</td>\n",
       "      <td>3</td>\n",
       "    </tr>\n",
       "    <tr>\n",
       "      <th>3</th>\n",
       "      <td>6.0</td>\n",
       "      <td>1.0</td>\n",
       "      <td>0.0</td>\n",
       "      <td>52.0</td>\n",
       "      <td>42.0</td>\n",
       "      <td>4</td>\n",
       "      <td>4</td>\n",
       "      <td>0</td>\n",
       "      <td>1</td>\n",
       "      <td>33</td>\n",
       "      <td>3</td>\n",
       "    </tr>\n",
       "    <tr>\n",
       "      <th>4</th>\n",
       "      <td>6.0</td>\n",
       "      <td>2.0</td>\n",
       "      <td>0.0</td>\n",
       "      <td>19.0</td>\n",
       "      <td>20.0</td>\n",
       "      <td>0</td>\n",
       "      <td>0</td>\n",
       "      <td>4</td>\n",
       "      <td>1</td>\n",
       "      <td>33</td>\n",
       "      <td>1</td>\n",
       "    </tr>\n",
       "    <tr>\n",
       "      <th>5</th>\n",
       "      <td>9.0</td>\n",
       "      <td>3.0</td>\n",
       "      <td>0.0</td>\n",
       "      <td>32.0</td>\n",
       "      <td>34.0</td>\n",
       "      <td>2</td>\n",
       "      <td>4</td>\n",
       "      <td>2</td>\n",
       "      <td>1</td>\n",
       "      <td>9</td>\n",
       "      <td>3</td>\n",
       "    </tr>\n",
       "  </tbody>\n",
       "</table>\n",
       "</div>"
      ],
      "text/plain": [
       "   remaining_min  power_of_shot  knockout_match  remaining_sec  \\\n",
       "1           10.0            1.0             0.0           22.0   \n",
       "2            7.0            1.0             0.0           45.0   \n",
       "3            6.0            1.0             0.0           52.0   \n",
       "4            6.0            2.0             0.0           19.0   \n",
       "5            9.0            3.0             0.0           32.0   \n",
       "\n",
       "   distance_of_shot  area_of_shot  shot_basics  range_of_shot  home/away  \\\n",
       "1              35.0             2            4              2          1   \n",
       "2              36.0             1            4              0          1   \n",
       "3              42.0             4            4              0          1   \n",
       "4              20.0             0            0              4          1   \n",
       "5              34.0             2            4              2          1   \n",
       "\n",
       "   type_of_shot  type_of_combined_shot  \n",
       "1            40                      3  \n",
       "2            18                      3  \n",
       "3            33                      3  \n",
       "4            33                      1  \n",
       "5             9                      3  "
      ]
     },
     "execution_count": 150,
     "metadata": {},
     "output_type": "execute_result"
    }
   ],
   "source": [
    "X.head()"
   ]
  },
  {
   "cell_type": "code",
   "execution_count": 151,
   "metadata": {},
   "outputs": [],
   "source": [
    "y = pd.DataFrame(y)"
   ]
  },
  {
   "cell_type": "code",
   "execution_count": 152,
   "metadata": {},
   "outputs": [
    {
     "data": {
      "text/html": [
       "<div>\n",
       "<style scoped>\n",
       "    .dataframe tbody tr th:only-of-type {\n",
       "        vertical-align: middle;\n",
       "    }\n",
       "\n",
       "    .dataframe tbody tr th {\n",
       "        vertical-align: top;\n",
       "    }\n",
       "\n",
       "    .dataframe thead th {\n",
       "        text-align: right;\n",
       "    }\n",
       "</style>\n",
       "<table border=\"1\" class=\"dataframe\">\n",
       "  <thead>\n",
       "    <tr style=\"text-align: right;\">\n",
       "      <th></th>\n",
       "      <th>is_goal</th>\n",
       "    </tr>\n",
       "  </thead>\n",
       "  <tbody>\n",
       "    <tr>\n",
       "      <th>1</th>\n",
       "      <td>0.0</td>\n",
       "    </tr>\n",
       "    <tr>\n",
       "      <th>2</th>\n",
       "      <td>1.0</td>\n",
       "    </tr>\n",
       "    <tr>\n",
       "      <th>3</th>\n",
       "      <td>0.0</td>\n",
       "    </tr>\n",
       "    <tr>\n",
       "      <th>4</th>\n",
       "      <td>1.0</td>\n",
       "    </tr>\n",
       "    <tr>\n",
       "      <th>5</th>\n",
       "      <td>0.0</td>\n",
       "    </tr>\n",
       "  </tbody>\n",
       "</table>\n",
       "</div>"
      ],
      "text/plain": [
       "   is_goal\n",
       "1      0.0\n",
       "2      1.0\n",
       "3      0.0\n",
       "4      1.0\n",
       "5      0.0"
      ]
     },
     "execution_count": 152,
     "metadata": {},
     "output_type": "execute_result"
    }
   ],
   "source": [
    "y.head()"
   ]
  },
  {
   "cell_type": "code",
   "execution_count": 153,
   "metadata": {},
   "outputs": [
    {
     "data": {
      "text/plain": [
       "(24429, 11)"
      ]
     },
     "execution_count": 153,
     "metadata": {},
     "output_type": "execute_result"
    }
   ],
   "source": [
    "X.shape"
   ]
  },
  {
   "cell_type": "code",
   "execution_count": 154,
   "metadata": {
    "scrolled": true
   },
   "outputs": [
    {
     "data": {
      "text/plain": [
       "(24429, 1)"
      ]
     },
     "execution_count": 154,
     "metadata": {},
     "output_type": "execute_result"
    }
   ],
   "source": [
    "y.shape"
   ]
  },
  {
   "cell_type": "code",
   "execution_count": 155,
   "metadata": {},
   "outputs": [
    {
     "data": {
      "text/plain": [
       "0.25658029391297227"
      ]
     },
     "execution_count": 155,
     "metadata": {},
     "output_type": "execute_result"
    }
   ],
   "source": [
    "6268/24429"
   ]
  },
  {
   "cell_type": "code",
   "execution_count": 214,
   "metadata": {},
   "outputs": [],
   "source": [
    "X = np.asarray(X)"
   ]
  },
  {
   "cell_type": "code",
   "execution_count": 215,
   "metadata": {},
   "outputs": [],
   "source": [
    "y = np.asarray(y)"
   ]
  },
  {
   "cell_type": "code",
   "execution_count": 266,
   "metadata": {},
   "outputs": [],
   "source": [
    "skf = StratifiedKFold(n_splits=5, random_state = 42, shuffle = True)"
   ]
  },
  {
   "cell_type": "code",
   "execution_count": 267,
   "metadata": {},
   "outputs": [],
   "source": [
    "for train_index, test_index in skf.split(X, y):\n",
    "    X_train, X_test = X[train_index], X[test_index]\n",
    "    y_train, y_test = y[train_index], y[test_index]"
   ]
  },
  {
   "cell_type": "code",
   "execution_count": null,
   "metadata": {},
   "outputs": [],
   "source": []
  },
  {
   "cell_type": "code",
   "execution_count": 268,
   "metadata": {},
   "outputs": [
    {
     "data": {
      "text/plain": [
       "3.8974154435678035"
      ]
     },
     "execution_count": 268,
     "metadata": {},
     "output_type": "execute_result"
    }
   ],
   "source": [
    "1/0.25658029391"
   ]
  },
  {
   "cell_type": "code",
   "execution_count": null,
   "metadata": {},
   "outputs": [],
   "source": []
  },
  {
   "cell_type": "code",
   "execution_count": null,
   "metadata": {},
   "outputs": [],
   "source": []
  },
  {
   "cell_type": "code",
   "execution_count": null,
   "metadata": {},
   "outputs": [],
   "source": []
  },
  {
   "cell_type": "code",
   "execution_count": null,
   "metadata": {},
   "outputs": [],
   "source": []
  },
  {
   "cell_type": "code",
   "execution_count": null,
   "metadata": {},
   "outputs": [],
   "source": []
  },
  {
   "cell_type": "code",
   "execution_count": null,
   "metadata": {},
   "outputs": [],
   "source": []
  },
  {
   "cell_type": "code",
   "execution_count": null,
   "metadata": {},
   "outputs": [],
   "source": []
  },
  {
   "cell_type": "code",
   "execution_count": null,
   "metadata": {},
   "outputs": [],
   "source": []
  },
  {
   "cell_type": "code",
   "execution_count": null,
   "metadata": {},
   "outputs": [],
   "source": []
  },
  {
   "cell_type": "code",
   "execution_count": null,
   "metadata": {},
   "outputs": [],
   "source": []
  },
  {
   "cell_type": "code",
   "execution_count": null,
   "metadata": {},
   "outputs": [],
   "source": []
  },
  {
   "cell_type": "code",
   "execution_count": 218,
   "metadata": {},
   "outputs": [],
   "source": [
    "#X_train, X_test, y_train, y_test = train_test_split(X, y, test_size = 0.25658029391, random_state = 42)"
   ]
  },
  {
   "cell_type": "code",
   "execution_count": 269,
   "metadata": {},
   "outputs": [],
   "source": [
    "from xgboost import XGBClassifier"
   ]
  },
  {
   "cell_type": "code",
   "execution_count": 270,
   "metadata": {
    "scrolled": true
   },
   "outputs": [
    {
     "data": {
      "text/plain": [
       "XGBClassifier(base_score=0.5, booster='gbtree', colsample_bylevel=1,\n",
       "              colsample_bynode=1, colsample_bytree=1, gamma=0,\n",
       "              learning_rate=0.1, max_delta_step=0, max_depth=3,\n",
       "              min_child_weight=1, missing=None, n_estimators=100, n_jobs=1,\n",
       "              nthread=None, objective='binary:logistic', random_state=0,\n",
       "              reg_alpha=0, reg_lambda=1, scale_pos_weight=1, seed=None,\n",
       "              silent=None, subsample=1, verbosity=1)"
      ]
     },
     "execution_count": 270,
     "metadata": {},
     "output_type": "execute_result"
    }
   ],
   "source": [
    "model = XGBClassifier()\n",
    "model.fit(X_train, y_train)"
   ]
  },
  {
   "cell_type": "code",
   "execution_count": 271,
   "metadata": {},
   "outputs": [
    {
     "name": "stdout",
     "output_type": "stream",
     "text": [
      "[0.03653119 0.02974533 0.02320923 0.03042248 0.2573059  0.02376753\n",
      " 0.22930568 0.06745767 0.04175927 0.10849477 0.15200093]\n"
     ]
    }
   ],
   "source": [
    "print(model.feature_importances_)"
   ]
  },
  {
   "cell_type": "code",
   "execution_count": 272,
   "metadata": {},
   "outputs": [
    {
     "ename": "AttributeError",
     "evalue": "'numpy.ndarray' object has no attribute 'head'",
     "output_type": "error",
     "traceback": [
      "\u001b[1;31m---------------------------------------------------------------------------\u001b[0m",
      "\u001b[1;31mAttributeError\u001b[0m                            Traceback (most recent call last)",
      "\u001b[1;32m<ipython-input-272-ae5cd47bda90>\u001b[0m in \u001b[0;36m<module>\u001b[1;34m\u001b[0m\n\u001b[1;32m----> 1\u001b[1;33m \u001b[0mX\u001b[0m\u001b[1;33m.\u001b[0m\u001b[0mhead\u001b[0m\u001b[1;33m(\u001b[0m\u001b[1;33m)\u001b[0m\u001b[1;33m\u001b[0m\u001b[1;33m\u001b[0m\u001b[0m\n\u001b[0m",
      "\u001b[1;31mAttributeError\u001b[0m: 'numpy.ndarray' object has no attribute 'head'"
     ]
    }
   ],
   "source": [
    "X.head()"
   ]
  },
  {
   "cell_type": "code",
   "execution_count": 273,
   "metadata": {},
   "outputs": [],
   "source": [
    "rfm = RandomForestClassifier(n_jobs = 10, random_state = 42)\n",
    "rfm.fit(X_train, y_train)\n",
    "y_pred_rfm = rfm.predict(X_test)"
   ]
  },
  {
   "cell_type": "code",
   "execution_count": 274,
   "metadata": {},
   "outputs": [
    {
     "data": {
      "text/plain": [
       "0.5979529170931422"
      ]
     },
     "execution_count": 274,
     "metadata": {},
     "output_type": "execute_result"
    }
   ],
   "source": [
    "rfm.score(X_test, y_test)"
   ]
  },
  {
   "cell_type": "code",
   "execution_count": 275,
   "metadata": {},
   "outputs": [],
   "source": [
    "knn = KNeighborsClassifier(n_neighbors = 15)\n",
    "knn.fit(X_train, y_train)\n",
    "y_pred_knn = knn.predict(X_test)"
   ]
  },
  {
   "cell_type": "code",
   "execution_count": 276,
   "metadata": {},
   "outputs": [
    {
     "data": {
      "text/plain": [
       "0.5836233367451382"
      ]
     },
     "execution_count": 276,
     "metadata": {},
     "output_type": "execute_result"
    }
   ],
   "source": [
    "knn.score(X_test, y_test)"
   ]
  },
  {
   "cell_type": "code",
   "execution_count": 277,
   "metadata": {},
   "outputs": [],
   "source": [
    "sgd = SGDClassifier(loss = 'modified_huber', shuffle = True, random_state = 101)\n",
    "sgd.fit(X_train, y_train)\n",
    "y_pred_sgd = sgd.predict(X_test)"
   ]
  },
  {
   "cell_type": "code",
   "execution_count": 278,
   "metadata": {},
   "outputs": [
    {
     "data": {
      "text/plain": [
       "0.5928352098259979"
      ]
     },
     "execution_count": 278,
     "metadata": {},
     "output_type": "execute_result"
    }
   ],
   "source": [
    "sgd.score(X_test, y_test)"
   ]
  },
  {
   "cell_type": "code",
   "execution_count": 279,
   "metadata": {},
   "outputs": [],
   "source": [
    "nb = GaussianNB()\n",
    "nb.fit(X_train, y_train)\n",
    "y_pred_nb = nb.predict(X_test)"
   ]
  },
  {
   "cell_type": "code",
   "execution_count": 280,
   "metadata": {},
   "outputs": [
    {
     "data": {
      "text/plain": [
       "0.6085977482088024"
      ]
     },
     "execution_count": 280,
     "metadata": {},
     "output_type": "execute_result"
    }
   ],
   "source": [
    "nb.score(X_test, y_test)"
   ]
  },
  {
   "cell_type": "code",
   "execution_count": 281,
   "metadata": {},
   "outputs": [],
   "source": [
    "logreg = LogisticRegression()\n",
    "logreg.fit(X_train, y_train)\n",
    "y_pred_log = logreg.predict(X_test)\n",
    "y_pred_prob = logreg.predict_proba(X_test)"
   ]
  },
  {
   "cell_type": "code",
   "execution_count": 282,
   "metadata": {},
   "outputs": [
    {
     "data": {
      "text/plain": [
       "0.5942681678607984"
      ]
     },
     "execution_count": 282,
     "metadata": {},
     "output_type": "execute_result"
    }
   ],
   "source": [
    "logreg.score(X_test, y_test)"
   ]
  },
  {
   "cell_type": "code",
   "execution_count": 283,
   "metadata": {},
   "outputs": [],
   "source": [
    "dtree = DecisionTreeClassifier(max_depth = 10, random_state = 10, max_features = None, min_samples_leaf = 15)\n",
    "dtree.fit(X_train, y_train)\n",
    "y_pred_dt = dtree.predict(X_test)"
   ]
  },
  {
   "cell_type": "code",
   "execution_count": 284,
   "metadata": {},
   "outputs": [
    {
     "data": {
      "text/plain": [
       "0.6372569089048107"
      ]
     },
     "execution_count": 284,
     "metadata": {},
     "output_type": "execute_result"
    }
   ],
   "source": [
    "dtree.score(X_test, y_test)"
   ]
  },
  {
   "cell_type": "code",
   "execution_count": 285,
   "metadata": {},
   "outputs": [
    {
     "name": "stdout",
     "output_type": "stream",
     "text": [
      "              precision    recall  f1-score   support\n",
      "\n",
      "         0.0       0.63      0.84      0.72      2710\n",
      "         1.0       0.66      0.38      0.48      2175\n",
      "\n",
      "    accuracy                           0.64      4885\n",
      "   macro avg       0.64      0.61      0.60      4885\n",
      "weighted avg       0.64      0.64      0.62      4885\n",
      "\n"
     ]
    }
   ],
   "source": [
    "print(classification_report(y_test, y_pred_dt))"
   ]
  },
  {
   "cell_type": "code",
   "execution_count": 286,
   "metadata": {
    "scrolled": true
   },
   "outputs": [
    {
     "data": {
      "image/png": "[encoded data removed]",
      "text/plain": [
       "<Figure size 432x288 with 1 Axes>"
      ]
     },
     "metadata": {
      "needs_background": "light"
     },
     "output_type": "display_data"
    }
   ],
   "source": [
    "dtree_roc_auc = roc_auc_score(y_test, y_pred_dt)\n",
    "fpr, tpr, thresholds = roc_curve(y_test, dtree.predict_proba(X_test)[:,1])\n",
    "plt.figure()\n",
    "plt.plot(fpr, tpr, label='Decision Tree (area = %0.2f)' % dtree_roc_auc)\n",
    "plt.plot([0, 1], [0, 1],'r--')\n",
    "plt.xlim([0.0, 1.0])\n",
    "plt.ylim([0.0, 1.05])\n",
    "plt.xlabel('False Positive Rate')\n",
    "plt.ylabel('True Positive Rate')\n",
    "plt.title('Receiver operating characteristic')\n",
    "plt.legend(loc=\"lower right\")\n",
    "plt.show()"
   ]
  },
  {
   "cell_type": "markdown",
   "metadata": {},
   "source": [
    "#### Hyperparameter Optiization for Random Forest Classifier"
   ]
  },
  {
   "cell_type": "code",
   "execution_count": 237,
   "metadata": {},
   "outputs": [
    {
     "name": "stdout",
     "output_type": "stream",
     "text": [
      "Fitting 5 folds for each of 220 candidates, totalling 1100 fits\n"
     ]
    },
    {
     "name": "stderr",
     "output_type": "stream",
     "text": [
      "[Parallel(n_jobs=-1)]: Using backend LokyBackend with 8 concurrent workers.\n",
      "[Parallel(n_jobs=-1)]: Done  25 tasks      | elapsed:    2.5s\n",
      "[Parallel(n_jobs=-1)]: Done 354 tasks      | elapsed:   10.4s\n",
      "[Parallel(n_jobs=-1)]: Done 592 tasks      | elapsed:   20.2s\n",
      "[Parallel(n_jobs=-1)]: Done 875 tasks      | elapsed:   32.6s\n",
      "[Parallel(n_jobs=-1)]: Done 1100 out of 1100 | elapsed:   44.4s finished\n"
     ]
    },
    {
     "data": {
      "text/plain": [
       "GridSearchCV(cv=KFold(n_splits=5, random_state=None, shuffle=False),\n",
       "             error_score='raise-deprecating',\n",
       "             estimator=RandomForestClassifier(bootstrap=True, class_weight=None,\n",
       "                                              criterion='gini', max_depth=None,\n",
       "                                              max_features='auto',\n",
       "                                              max_leaf_nodes=None,\n",
       "                                              min_impurity_decrease=0.0,\n",
       "                                              min_impurity_split=None,\n",
       "                                              min_samples_leaf=1,\n",
       "                                              min_samples_split=2,\n",
       "                                              min_weight_fraction_leaf=0.0,\n",
       "                                              n_estimators='warn', n_jobs=None,\n",
       "                                              oob_score=False, random_state=69,\n",
       "                                              verbose=0, warm_start=False),\n",
       "             iid='warn', n_jobs=-1,\n",
       "             param_grid={'max_depth': [1, 6, 11, 17, 22, 28, 33, 39, 44, 50,\n",
       "                                       None],\n",
       "                         'max_features': ['auto', 'sqrt'],\n",
       "                         'n_estimators': [1, 3, 5, 7, 9, 11, 13, 15, 17, 20]},\n",
       "             pre_dispatch='2*n_jobs', refit=True, return_train_score=False,\n",
       "             scoring='roc_auc', verbose=2)"
      ]
     },
     "execution_count": 237,
     "metadata": {},
     "output_type": "execute_result"
    }
   ],
   "source": [
    "from sklearn.model_selection import GridSearchCV\n",
    "from sklearn.model_selection import KFold\n",
    "n_estimators = [int(x) for x in np.linspace(start = 1, stop = 20, num = 10)]\n",
    "max_depth = [int(x) for x in np.linspace(1, 50, num = 10)]\n",
    "max_depth.append(None)\n",
    "max_features = ['auto', 'sqrt']\n",
    "\n",
    "param_grid = {\n",
    "    'n_estimators': n_estimators,\n",
    "    'max_depth': max_depth,\n",
    "    'max_features': max_features,\n",
    "}\n",
    "\n",
    "estimator = RandomForestClassifier(random_state = 69)\n",
    "cv_test = KFold(n_splits=5)\n",
    "gscv = GridSearchCV(estimator, param_grid, n_jobs = -1, \n",
    "                        scoring = 'roc_auc', cv = cv_test, \n",
    "                        verbose = 2)\n",
    "\n",
    "gscv.fit(X_train, y_train)"
   ]
  },
  {
   "cell_type": "code",
   "execution_count": 287,
   "metadata": {},
   "outputs": [
    {
     "data": {
      "text/plain": [
       "{'max_depth': 11, 'max_features': 'auto', 'n_estimators': 20}"
      ]
     },
     "execution_count": 287,
     "metadata": {},
     "output_type": "execute_result"
    }
   ],
   "source": [
    "gscv.best_params_"
   ]
  },
  {
   "cell_type": "code",
   "execution_count": 288,
   "metadata": {},
   "outputs": [],
   "source": [
    "best_model = gscv.best_estimator_"
   ]
  },
  {
   "cell_type": "code",
   "execution_count": 289,
   "metadata": {},
   "outputs": [
    {
     "data": {
      "text/plain": [
       "0.6313203684749232"
      ]
     },
     "execution_count": 289,
     "metadata": {},
     "output_type": "execute_result"
    }
   ],
   "source": [
    "best_model.score(X_test,y_test)"
   ]
  },
  {
   "cell_type": "code",
   "execution_count": 242,
   "metadata": {},
   "outputs": [],
   "source": [
    "rf2_pred = best_model.predict(X_test)\n",
    "rf2_prob = best_model.predict_proba(X_test)[:, 1]"
   ]
  },
  {
   "cell_type": "code",
   "execution_count": 243,
   "metadata": {},
   "outputs": [
    {
     "data": {
      "image/png": "[encoded data removed]",
      "text/plain": [
       "<Figure size 432x288 with 1 Axes>"
      ]
     },
     "metadata": {
      "needs_background": "light"
     },
     "output_type": "display_data"
    }
   ],
   "source": [
    "rf2_roc_auc = roc_auc_score(y_test, rf2_pred)\n",
    "fpr, tpr, thresholds = roc_curve(y_test, rf2_prob)\n",
    "plt.figure()\n",
    "plt.plot(fpr, tpr, label='Random Forest (Model Tuned) (area = %0.2f)' % rf2_roc_auc)\n",
    "plt.plot([0, 1], [0, 1],'r--')\n",
    "plt.xlim([-0.04, 1.0])\n",
    "plt.ylim([0.0, 1.05])\n",
    "plt.xlabel('False Positive Rate')\n",
    "plt.ylabel('True Positive Rate')\n",
    "plt.title('Receiver operating characteristic')\n",
    "plt.legend(loc=\"lower right\")\n",
    "plt.show()"
   ]
  },
  {
   "cell_type": "code",
   "execution_count": 290,
   "metadata": {},
   "outputs": [
    {
     "data": {
      "text/plain": [
       "4885"
      ]
     },
     "execution_count": 290,
     "metadata": {},
     "output_type": "execute_result"
    }
   ],
   "source": [
    "y_pred_dt.size"
   ]
  },
  {
   "cell_type": "code",
   "execution_count": 291,
   "metadata": {},
   "outputs": [],
   "source": [
    "#prob = dtree.predict_proba(X_test)[:,1]"
   ]
  },
  {
   "cell_type": "code",
   "execution_count": 292,
   "metadata": {},
   "outputs": [],
   "source": [
    "#prob.size"
   ]
  },
  {
   "cell_type": "code",
   "execution_count": 293,
   "metadata": {},
   "outputs": [],
   "source": [
    "prob = pd.DataFrame(rf2_prob)"
   ]
  },
  {
   "cell_type": "code",
   "execution_count": 294,
   "metadata": {
    "scrolled": false
   },
   "outputs": [
    {
     "data": {
      "text/html": [
       "<div>\n",
       "<style scoped>\n",
       "    .dataframe tbody tr th:only-of-type {\n",
       "        vertical-align: middle;\n",
       "    }\n",
       "\n",
       "    .dataframe tbody tr th {\n",
       "        vertical-align: top;\n",
       "    }\n",
       "\n",
       "    .dataframe thead th {\n",
       "        text-align: right;\n",
       "    }\n",
       "</style>\n",
       "<table border=\"1\" class=\"dataframe\">\n",
       "  <thead>\n",
       "    <tr style=\"text-align: right;\">\n",
       "      <th></th>\n",
       "      <th>0</th>\n",
       "    </tr>\n",
       "  </thead>\n",
       "  <tbody>\n",
       "    <tr>\n",
       "      <th>4880</th>\n",
       "      <td>0.380339</td>\n",
       "    </tr>\n",
       "    <tr>\n",
       "      <th>4881</th>\n",
       "      <td>0.581337</td>\n",
       "    </tr>\n",
       "    <tr>\n",
       "      <th>4882</th>\n",
       "      <td>0.355145</td>\n",
       "    </tr>\n",
       "    <tr>\n",
       "      <th>4883</th>\n",
       "      <td>0.506571</td>\n",
       "    </tr>\n",
       "    <tr>\n",
       "      <th>4884</th>\n",
       "      <td>0.341438</td>\n",
       "    </tr>\n",
       "  </tbody>\n",
       "</table>\n",
       "</div>"
      ],
      "text/plain": [
       "             0\n",
       "4880  0.380339\n",
       "4881  0.581337\n",
       "4882  0.355145\n",
       "4883  0.506571\n",
       "4884  0.341438"
      ]
     },
     "execution_count": 294,
     "metadata": {},
     "output_type": "execute_result"
    }
   ],
   "source": [
    "prob.tail()"
   ]
  },
  {
   "cell_type": "code",
   "execution_count": 295,
   "metadata": {},
   "outputs": [],
   "source": [
    "prob['is_goal'] = prob[0] "
   ]
  },
  {
   "cell_type": "code",
   "execution_count": 296,
   "metadata": {
    "scrolled": true
   },
   "outputs": [
    {
     "data": {
      "text/html": [
       "<div>\n",
       "<style scoped>\n",
       "    .dataframe tbody tr th:only-of-type {\n",
       "        vertical-align: middle;\n",
       "    }\n",
       "\n",
       "    .dataframe tbody tr th {\n",
       "        vertical-align: top;\n",
       "    }\n",
       "\n",
       "    .dataframe thead th {\n",
       "        text-align: right;\n",
       "    }\n",
       "</style>\n",
       "<table border=\"1\" class=\"dataframe\">\n",
       "  <thead>\n",
       "    <tr style=\"text-align: right;\">\n",
       "      <th></th>\n",
       "      <th>0</th>\n",
       "      <th>is_goal</th>\n",
       "    </tr>\n",
       "  </thead>\n",
       "  <tbody>\n",
       "    <tr>\n",
       "      <th>0</th>\n",
       "      <td>0.450792</td>\n",
       "      <td>0.450792</td>\n",
       "    </tr>\n",
       "    <tr>\n",
       "      <th>1</th>\n",
       "      <td>0.328849</td>\n",
       "      <td>0.328849</td>\n",
       "    </tr>\n",
       "    <tr>\n",
       "      <th>2</th>\n",
       "      <td>0.532250</td>\n",
       "      <td>0.532250</td>\n",
       "    </tr>\n",
       "    <tr>\n",
       "      <th>3</th>\n",
       "      <td>0.572946</td>\n",
       "      <td>0.572946</td>\n",
       "    </tr>\n",
       "    <tr>\n",
       "      <th>4</th>\n",
       "      <td>0.517153</td>\n",
       "      <td>0.517153</td>\n",
       "    </tr>\n",
       "  </tbody>\n",
       "</table>\n",
       "</div>"
      ],
      "text/plain": [
       "          0   is_goal\n",
       "0  0.450792  0.450792\n",
       "1  0.328849  0.328849\n",
       "2  0.532250  0.532250\n",
       "3  0.572946  0.572946\n",
       "4  0.517153  0.517153"
      ]
     },
     "execution_count": 296,
     "metadata": {},
     "output_type": "execute_result"
    }
   ],
   "source": [
    "prob.head()"
   ]
  },
  {
   "cell_type": "code",
   "execution_count": 297,
   "metadata": {},
   "outputs": [],
   "source": [
    "prob = prob.drop([0], axis = 1)"
   ]
  },
  {
   "cell_type": "code",
   "execution_count": 298,
   "metadata": {},
   "outputs": [
    {
     "data": {
      "text/plain": [
       "False"
      ]
     },
     "execution_count": 298,
     "metadata": {},
     "output_type": "execute_result"
    }
   ],
   "source": [
    "prob['is_goal'].isnull().any()"
   ]
  },
  {
   "cell_type": "code",
   "execution_count": 299,
   "metadata": {},
   "outputs": [
    {
     "data": {
      "text/plain": [
       "(6268, 27)"
      ]
     },
     "execution_count": 299,
     "metadata": {},
     "output_type": "execute_result"
    }
   ],
   "source": [
    "df2.shape"
   ]
  },
  {
   "cell_type": "code",
   "execution_count": 300,
   "metadata": {},
   "outputs": [
    {
     "data": {
      "text/plain": [
       "(4885, 1)"
      ]
     },
     "execution_count": 300,
     "metadata": {},
     "output_type": "execute_result"
    }
   ],
   "source": [
    "prob.shape"
   ]
  },
  {
   "cell_type": "code",
   "execution_count": 301,
   "metadata": {},
   "outputs": [],
   "source": [
    "submit =  df2[['shot_id_number']].copy()"
   ]
  },
  {
   "cell_type": "code",
   "execution_count": 302,
   "metadata": {},
   "outputs": [
    {
     "data": {
      "text/plain": [
       "(6268, 1)"
      ]
     },
     "execution_count": 302,
     "metadata": {},
     "output_type": "execute_result"
    }
   ],
   "source": [
    "submit.shape"
   ]
  },
  {
   "cell_type": "code",
   "execution_count": 190,
   "metadata": {},
   "outputs": [],
   "source": [
    "submit = submit.reset_index()"
   ]
  },
  {
   "cell_type": "code",
   "execution_count": 191,
   "metadata": {},
   "outputs": [
    {
     "data": {
      "text/plain": [
       "index             False\n",
       "shot_id_number    False\n",
       "dtype: bool"
      ]
     },
     "execution_count": 191,
     "metadata": {},
     "output_type": "execute_result"
    }
   ],
   "source": [
    "submit.isnull().any()"
   ]
  },
  {
   "cell_type": "code",
   "execution_count": 192,
   "metadata": {},
   "outputs": [],
   "source": [
    "submit['is_goal'] = prob[['is_goal']].copy()"
   ]
  },
  {
   "cell_type": "code",
   "execution_count": 193,
   "metadata": {},
   "outputs": [
    {
     "data": {
      "text/plain": [
       "index             False\n",
       "shot_id_number    False\n",
       "is_goal           False\n",
       "dtype: bool"
      ]
     },
     "execution_count": 193,
     "metadata": {},
     "output_type": "execute_result"
    }
   ],
   "source": [
    "submit.isnull().any()"
   ]
  },
  {
   "cell_type": "code",
   "execution_count": 194,
   "metadata": {},
   "outputs": [],
   "source": [
    "submit.to_csv(r'D:/DS/zs_submit.csv')"
   ]
  },
  {
   "cell_type": "code",
   "execution_count": 195,
   "metadata": {},
   "outputs": [
    {
     "name": "stderr",
     "output_type": "stream",
     "text": [
      "[NbConvertApp] Converting notebook zs.ipynb to script\n",
      "[NbConvertApp] Writing 11984 bytes to zs.py\n"
     ]
    }
   ],
   "source": [
    "!jupyter nbconvert --to script zs.ipynb"
   ]
  }
 ],
 "metadata": {
  "kernelspec": {
   "display_name": "Python 3",
   "language": "python",
   "name": "python3"
  },
  "language_info": {
   "codemirror_mode": {
    "name": "ipython",
    "version": 3
   },
   "file_extension": ".py",
   "mimetype": "text/x-python",
   "name": "python",
   "nbconvert_exporter": "python",
   "pygments_lexer": "ipython3",
   "version": "3.7.3"
  }
 },
 "nbformat": 4,
 "nbformat_minor": 2
}
